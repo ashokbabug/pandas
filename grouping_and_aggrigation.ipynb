{
 "metadata": {
  "language_info": {
   "codemirror_mode": {
    "name": "ipython",
    "version": 3
   },
   "file_extension": ".py",
   "mimetype": "text/x-python",
   "name": "python",
   "nbconvert_exporter": "python",
   "pygments_lexer": "ipython3",
   "version": "3.8.5-final"
  },
  "orig_nbformat": 2,
  "kernelspec": {
   "name": "Python 3.8.5 64-bit",
   "display_name": "Python 3.8.5 64-bit",
   "metadata": {
    "interpreter": {
     "hash": "46971d6258fae1e211635d8bf7f60d4d01846c4e42537e37b5cbd719f8de335b"
    }
   }
  }
 },
 "nbformat": 4,
 "nbformat_minor": 2,
 "cells": [
  {
   "cell_type": "code",
   "execution_count": 405,
   "metadata": {},
   "outputs": [
    {
     "output_type": "display_data",
     "data": {
      "text/plain": "<IPython.core.display.Javascript object>",
      "application/javascript": "\n        if (window._pyforest_update_imports_cell) { window._pyforest_update_imports_cell('import pandas as pd\\nimport numpy as np'); }\n    "
     },
     "metadata": {}
    },
    {
     "output_type": "display_data",
     "data": {
      "text/plain": "<IPython.core.display.Javascript object>",
      "application/javascript": "\n        if (window._pyforest_update_imports_cell) { window._pyforest_update_imports_cell('import pandas as pd\\nimport numpy as np'); }\n    "
     },
     "metadata": {}
    },
    {
     "output_type": "execute_result",
     "data": {
      "text/plain": "                                                   MainBranch Hobbyist  \\\nRespondent                                                               \n1                      I am a student who is learning to code      Yes   \n2                      I am a student who is learning to code       No   \n3           I am not primarily a developer, but I write co...      Yes   \n4                              I am a developer by profession       No   \n5                              I am a developer by profession      Yes   \n\n                           OpenSourcer  \\\nRespondent                               \n1                                Never   \n2              Less than once per year   \n3                                Never   \n4                                Never   \n5           Once a month or more often   \n\n                                                   OpenSource  \\\nRespondent                                                      \n1           The quality of OSS and closed source software ...   \n2           The quality of OSS and closed source software ...   \n3           The quality of OSS and closed source software ...   \n4           The quality of OSS and closed source software ...   \n5           OSS is, on average, of HIGHER quality than pro...   \n\n                                        Employment                 Country  \\\nRespondent                                                                   \n1           Not employed, and not looking for work          United Kingdom   \n2               Not employed, but looking for work  Bosnia and Herzegovina   \n3                               Employed full-time                Thailand   \n4                               Employed full-time           United States   \n5                               Employed full-time                 Ukraine   \n\n                   Student                                            EdLevel  \\\nRespondent                                                                      \n1                       No                          Primary/elementary school   \n2           Yes, full-time  Secondary school (e.g. American high school, G...   \n3                       No           Bachelor’s degree (BA, BS, B.Eng., etc.)   \n4                       No           Bachelor’s degree (BA, BS, B.Eng., etc.)   \n5                       No           Bachelor’s degree (BA, BS, B.Eng., etc.)   \n\n                                               UndergradMajor  \\\nRespondent                                                      \n1                                                         NaN   \n2                                                         NaN   \n3                               Web development or web design   \n4           Computer science, computer engineering, or sof...   \n5           Computer science, computer engineering, or sof...   \n\n                                                     EduOther  ...  \\\nRespondent                                                     ...   \n1           Taught yourself a new language, framework, or ...  ...   \n2           Taken an online course in programming or softw...  ...   \n3           Taught yourself a new language, framework, or ...  ...   \n4           Taken an online course in programming or softw...  ...   \n5           Taken an online course in programming or softw...  ...   \n\n                                      WelcomeChange  \\\nRespondent                                            \n1           Just as welcome now as I felt last year   \n2           Just as welcome now as I felt last year   \n3           Just as welcome now as I felt last year   \n4           Just as welcome now as I felt last year   \n5           Just as welcome now as I felt last year   \n\n                                                 SONewContent   Age Gender  \\\nRespondent                                                                   \n1           Tech articles written by other developers;Indu...  14.0    Man   \n2           Tech articles written by other developers;Indu...  19.0    Man   \n3           Tech meetups or events in your area;Courses on...  28.0    Man   \n4           Tech articles written by other developers;Indu...  22.0    Man   \n5           Tech meetups or events in your area;Courses on...  30.0    Man   \n\n           Trans                Sexuality  \\\nRespondent                                  \n1             No  Straight / Heterosexual   \n2             No  Straight / Heterosexual   \n3             No  Straight / Heterosexual   \n4             No  Straight / Heterosexual   \n5             No  Straight / Heterosexual   \n\n                                           Ethnicity Dependents  \\\nRespondent                                                        \n1                                                NaN         No   \n2                                                NaN         No   \n3                                                NaN        Yes   \n4                       White or of European descent         No   \n5           White or of European descent;Multiracial         No   \n\n                     SurveyLength                  SurveyEase  \nRespondent                                                     \n1           Appropriate in length  Neither easy nor difficult  \n2           Appropriate in length  Neither easy nor difficult  \n3           Appropriate in length  Neither easy nor difficult  \n4           Appropriate in length                        Easy  \n5           Appropriate in length                        Easy  \n\n[5 rows x 84 columns]",
      "text/html": "<div>\n<style scoped>\n    .dataframe tbody tr th:only-of-type {\n        vertical-align: middle;\n    }\n\n    .dataframe tbody tr th {\n        vertical-align: top;\n    }\n\n    .dataframe thead th {\n        text-align: right;\n    }\n</style>\n<table border=\"1\" class=\"dataframe\">\n  <thead>\n    <tr style=\"text-align: right;\">\n      <th></th>\n      <th>MainBranch</th>\n      <th>Hobbyist</th>\n      <th>OpenSourcer</th>\n      <th>OpenSource</th>\n      <th>Employment</th>\n      <th>Country</th>\n      <th>Student</th>\n      <th>EdLevel</th>\n      <th>UndergradMajor</th>\n      <th>EduOther</th>\n      <th>...</th>\n      <th>WelcomeChange</th>\n      <th>SONewContent</th>\n      <th>Age</th>\n      <th>Gender</th>\n      <th>Trans</th>\n      <th>Sexuality</th>\n      <th>Ethnicity</th>\n      <th>Dependents</th>\n      <th>SurveyLength</th>\n      <th>SurveyEase</th>\n    </tr>\n    <tr>\n      <th>Respondent</th>\n      <th></th>\n      <th></th>\n      <th></th>\n      <th></th>\n      <th></th>\n      <th></th>\n      <th></th>\n      <th></th>\n      <th></th>\n      <th></th>\n      <th></th>\n      <th></th>\n      <th></th>\n      <th></th>\n      <th></th>\n      <th></th>\n      <th></th>\n      <th></th>\n      <th></th>\n      <th></th>\n      <th></th>\n    </tr>\n  </thead>\n  <tbody>\n    <tr>\n      <th>1</th>\n      <td>I am a student who is learning to code</td>\n      <td>Yes</td>\n      <td>Never</td>\n      <td>The quality of OSS and closed source software ...</td>\n      <td>Not employed, and not looking for work</td>\n      <td>United Kingdom</td>\n      <td>No</td>\n      <td>Primary/elementary school</td>\n      <td>NaN</td>\n      <td>Taught yourself a new language, framework, or ...</td>\n      <td>...</td>\n      <td>Just as welcome now as I felt last year</td>\n      <td>Tech articles written by other developers;Indu...</td>\n      <td>14.0</td>\n      <td>Man</td>\n      <td>No</td>\n      <td>Straight / Heterosexual</td>\n      <td>NaN</td>\n      <td>No</td>\n      <td>Appropriate in length</td>\n      <td>Neither easy nor difficult</td>\n    </tr>\n    <tr>\n      <th>2</th>\n      <td>I am a student who is learning to code</td>\n      <td>No</td>\n      <td>Less than once per year</td>\n      <td>The quality of OSS and closed source software ...</td>\n      <td>Not employed, but looking for work</td>\n      <td>Bosnia and Herzegovina</td>\n      <td>Yes, full-time</td>\n      <td>Secondary school (e.g. American high school, G...</td>\n      <td>NaN</td>\n      <td>Taken an online course in programming or softw...</td>\n      <td>...</td>\n      <td>Just as welcome now as I felt last year</td>\n      <td>Tech articles written by other developers;Indu...</td>\n      <td>19.0</td>\n      <td>Man</td>\n      <td>No</td>\n      <td>Straight / Heterosexual</td>\n      <td>NaN</td>\n      <td>No</td>\n      <td>Appropriate in length</td>\n      <td>Neither easy nor difficult</td>\n    </tr>\n    <tr>\n      <th>3</th>\n      <td>I am not primarily a developer, but I write co...</td>\n      <td>Yes</td>\n      <td>Never</td>\n      <td>The quality of OSS and closed source software ...</td>\n      <td>Employed full-time</td>\n      <td>Thailand</td>\n      <td>No</td>\n      <td>Bachelor’s degree (BA, BS, B.Eng., etc.)</td>\n      <td>Web development or web design</td>\n      <td>Taught yourself a new language, framework, or ...</td>\n      <td>...</td>\n      <td>Just as welcome now as I felt last year</td>\n      <td>Tech meetups or events in your area;Courses on...</td>\n      <td>28.0</td>\n      <td>Man</td>\n      <td>No</td>\n      <td>Straight / Heterosexual</td>\n      <td>NaN</td>\n      <td>Yes</td>\n      <td>Appropriate in length</td>\n      <td>Neither easy nor difficult</td>\n    </tr>\n    <tr>\n      <th>4</th>\n      <td>I am a developer by profession</td>\n      <td>No</td>\n      <td>Never</td>\n      <td>The quality of OSS and closed source software ...</td>\n      <td>Employed full-time</td>\n      <td>United States</td>\n      <td>No</td>\n      <td>Bachelor’s degree (BA, BS, B.Eng., etc.)</td>\n      <td>Computer science, computer engineering, or sof...</td>\n      <td>Taken an online course in programming or softw...</td>\n      <td>...</td>\n      <td>Just as welcome now as I felt last year</td>\n      <td>Tech articles written by other developers;Indu...</td>\n      <td>22.0</td>\n      <td>Man</td>\n      <td>No</td>\n      <td>Straight / Heterosexual</td>\n      <td>White or of European descent</td>\n      <td>No</td>\n      <td>Appropriate in length</td>\n      <td>Easy</td>\n    </tr>\n    <tr>\n      <th>5</th>\n      <td>I am a developer by profession</td>\n      <td>Yes</td>\n      <td>Once a month or more often</td>\n      <td>OSS is, on average, of HIGHER quality than pro...</td>\n      <td>Employed full-time</td>\n      <td>Ukraine</td>\n      <td>No</td>\n      <td>Bachelor’s degree (BA, BS, B.Eng., etc.)</td>\n      <td>Computer science, computer engineering, or sof...</td>\n      <td>Taken an online course in programming or softw...</td>\n      <td>...</td>\n      <td>Just as welcome now as I felt last year</td>\n      <td>Tech meetups or events in your area;Courses on...</td>\n      <td>30.0</td>\n      <td>Man</td>\n      <td>No</td>\n      <td>Straight / Heterosexual</td>\n      <td>White or of European descent;Multiracial</td>\n      <td>No</td>\n      <td>Appropriate in length</td>\n      <td>Easy</td>\n    </tr>\n  </tbody>\n</table>\n<p>5 rows × 84 columns</p>\n</div>"
     },
     "metadata": {},
     "execution_count": 405
    }
   ],
   "source": [
    "df_public = pd.read_csv('datasets/survey_results_public.csv',index_col='Respondent')\n",
    "df_schema = pd.read_csv('datasets/survey_results_schema.csv',index_col='Column')\n",
    "df_public.head()"
   ]
  },
  {
   "source": [
    "# Aggrigation\n",
    "aggrigation means combining multiple peaces of data into single unit\n"
   ],
   "cell_type": "markdown",
   "metadata": {}
  },
  {
   "cell_type": "code",
   "execution_count": 406,
   "metadata": {},
   "outputs": [
    {
     "output_type": "execute_result",
     "data": {
      "text/plain": "Respondent\n1          NaN\n2          NaN\n3       8820.0\n4      61000.0\n5          NaN\n6     366420.0\n7          NaN\n8          NaN\n9      95179.0\n10     13293.0\n11         NaN\n12         NaN\n13     90000.0\n14     57060.0\n15         NaN\n16    455352.0\n17     65277.0\n18     21996.0\n19     31140.0\n20     41244.0\nName: ConvertedComp, dtype: float64"
     },
     "metadata": {},
     "execution_count": 406
    }
   ],
   "source": [
    "df_public['ConvertedComp'].head(20)"
   ]
  },
  {
   "cell_type": "code",
   "execution_count": 407,
   "metadata": {},
   "outputs": [
    {
     "output_type": "execute_result",
     "data": {
      "text/plain": "127110.73842323056"
     },
     "metadata": {},
     "execution_count": 407
    }
   ],
   "source": [
    "#if you want to calculate mean\n",
    "df_public['ConvertedComp'].mean()"
   ]
  },
  {
   "cell_type": "code",
   "execution_count": 408,
   "metadata": {},
   "outputs": [
    {
     "output_type": "execute_result",
     "data": {
      "text/plain": "57287.0"
     },
     "metadata": {},
     "execution_count": 408
    }
   ],
   "source": [
    "df_public['ConvertedComp'].median()"
   ]
  },
  {
   "cell_type": "code",
   "execution_count": 409,
   "metadata": {},
   "outputs": [
    {
     "output_type": "execute_result",
     "data": {
      "text/plain": "CompTotal        62000.0\nConvertedComp    57287.0\nWorkWeekHrs         40.0\nCodeRevHrs           4.0\nAge                 29.0\ndtype: float64"
     },
     "metadata": {},
     "execution_count": 409
    }
   ],
   "source": [
    "df_public.median()"
   ]
  },
  {
   "cell_type": "code",
   "execution_count": 410,
   "metadata": {},
   "outputs": [
    {
     "output_type": "execute_result",
     "data": {
      "text/plain": "          CompTotal  ConvertedComp   WorkWeekHrs    CodeRevHrs           Age\ncount  5.594500e+04   5.582300e+04  64503.000000  49790.000000  79210.000000\nmean   5.519014e+11   1.271107e+05     42.127197      5.084308     30.336699\nstd    7.331926e+13   2.841523e+05     37.287610      5.513931      9.178390\nmin    0.000000e+00   0.000000e+00      1.000000      0.000000      1.000000\n25%    2.000000e+04   2.577750e+04     40.000000      2.000000     24.000000\n50%    6.200000e+04   5.728700e+04     40.000000      4.000000     29.000000\n75%    1.200000e+05   1.000000e+05     44.750000      6.000000     35.000000\nmax    1.000000e+16   2.000000e+06   4850.000000     99.000000     99.000000",
      "text/html": "<div>\n<style scoped>\n    .dataframe tbody tr th:only-of-type {\n        vertical-align: middle;\n    }\n\n    .dataframe tbody tr th {\n        vertical-align: top;\n    }\n\n    .dataframe thead th {\n        text-align: right;\n    }\n</style>\n<table border=\"1\" class=\"dataframe\">\n  <thead>\n    <tr style=\"text-align: right;\">\n      <th></th>\n      <th>CompTotal</th>\n      <th>ConvertedComp</th>\n      <th>WorkWeekHrs</th>\n      <th>CodeRevHrs</th>\n      <th>Age</th>\n    </tr>\n  </thead>\n  <tbody>\n    <tr>\n      <th>count</th>\n      <td>5.594500e+04</td>\n      <td>5.582300e+04</td>\n      <td>64503.000000</td>\n      <td>49790.000000</td>\n      <td>79210.000000</td>\n    </tr>\n    <tr>\n      <th>mean</th>\n      <td>5.519014e+11</td>\n      <td>1.271107e+05</td>\n      <td>42.127197</td>\n      <td>5.084308</td>\n      <td>30.336699</td>\n    </tr>\n    <tr>\n      <th>std</th>\n      <td>7.331926e+13</td>\n      <td>2.841523e+05</td>\n      <td>37.287610</td>\n      <td>5.513931</td>\n      <td>9.178390</td>\n    </tr>\n    <tr>\n      <th>min</th>\n      <td>0.000000e+00</td>\n      <td>0.000000e+00</td>\n      <td>1.000000</td>\n      <td>0.000000</td>\n      <td>1.000000</td>\n    </tr>\n    <tr>\n      <th>25%</th>\n      <td>2.000000e+04</td>\n      <td>2.577750e+04</td>\n      <td>40.000000</td>\n      <td>2.000000</td>\n      <td>24.000000</td>\n    </tr>\n    <tr>\n      <th>50%</th>\n      <td>6.200000e+04</td>\n      <td>5.728700e+04</td>\n      <td>40.000000</td>\n      <td>4.000000</td>\n      <td>29.000000</td>\n    </tr>\n    <tr>\n      <th>75%</th>\n      <td>1.200000e+05</td>\n      <td>1.000000e+05</td>\n      <td>44.750000</td>\n      <td>6.000000</td>\n      <td>35.000000</td>\n    </tr>\n    <tr>\n      <th>max</th>\n      <td>1.000000e+16</td>\n      <td>2.000000e+06</td>\n      <td>4850.000000</td>\n      <td>99.000000</td>\n      <td>99.000000</td>\n    </tr>\n  </tbody>\n</table>\n</div>"
     },
     "metadata": {},
     "execution_count": 410
    }
   ],
   "source": [
    "df_public.describe()\n",
    "# here count is no of non-NaN rows "
   ]
  },
  {
   "cell_type": "code",
   "execution_count": 411,
   "metadata": {},
   "outputs": [
    {
     "output_type": "execute_result",
     "data": {
      "text/plain": "55823"
     },
     "metadata": {},
     "execution_count": 411
    }
   ],
   "source": [
    "df_public['ConvertedComp'].count()"
   ]
  },
  {
   "cell_type": "code",
   "execution_count": 412,
   "metadata": {},
   "outputs": [
    {
     "output_type": "execute_result",
     "data": {
      "text/plain": "Respondent\n1        Yes\n2         No\n3        Yes\n4         No\n5        Yes\n        ... \n88377    Yes\n88601     No\n88802     No\n88816     No\n88863    Yes\nName: Hobbyist, Length: 88883, dtype: object"
     },
     "metadata": {},
     "execution_count": 412
    }
   ],
   "source": [
    "df_public['Hobbyist']"
   ]
  },
  {
   "cell_type": "code",
   "execution_count": 413,
   "metadata": {},
   "outputs": [
    {
     "output_type": "execute_result",
     "data": {
      "text/plain": "Yes    71257\nNo     17626\nName: Hobbyist, dtype: int64"
     },
     "metadata": {},
     "execution_count": 413
    }
   ],
   "source": [
    "df_public['Hobbyist'].value_counts()"
   ]
  },
  {
   "cell_type": "code",
   "execution_count": 414,
   "metadata": {},
   "outputs": [
    {
     "output_type": "execute_result",
     "data": {
      "text/plain": "Respondent\n1          Twitter\n2        Instagram\n3           Reddit\n4           Reddit\n5         Facebook\n           ...    \n88377      YouTube\n88601          NaN\n88802          NaN\n88816          NaN\n88863     WhatsApp\nName: SocialMedia, Length: 88883, dtype: object"
     },
     "metadata": {},
     "execution_count": 414
    }
   ],
   "source": [
    "df_public['SocialMedia']"
   ]
  },
  {
   "cell_type": "code",
   "execution_count": 415,
   "metadata": {},
   "outputs": [
    {
     "output_type": "execute_result",
     "data": {
      "text/plain": "QuestionText    What social media site do you use the most?\nName: SocialMedia, dtype: object"
     },
     "metadata": {},
     "execution_count": 415
    }
   ],
   "source": [
    "df_schema.loc['SocialMedia']"
   ]
  },
  {
   "cell_type": "code",
   "execution_count": 416,
   "metadata": {},
   "outputs": [
    {
     "output_type": "execute_result",
     "data": {
      "text/plain": "Reddit                      14374\nYouTube                     13830\nWhatsApp                    13347\nFacebook                    13178\nTwitter                     11398\nInstagram                    6261\nI don't use social media     5554\nLinkedIn                     4501\nWeChat 微信                     667\nSnapchat                      628\nVK ВКонта́кте                 603\nWeibo 新浪微博                     56\nYouku Tudou 优酷                 21\nHello                          19\nName: SocialMedia, dtype: int64"
     },
     "metadata": {},
     "execution_count": 416
    }
   ],
   "source": [
    "df_public.SocialMedia.value_counts()"
   ]
  },
  {
   "cell_type": "code",
   "execution_count": 417,
   "metadata": {},
   "outputs": [
    {
     "output_type": "execute_result",
     "data": {
      "text/plain": "Reddit                      0.170233\nYouTube                     0.163791\nWhatsApp                    0.158071\nFacebook                    0.156069\nTwitter                     0.134988\nInstagram                   0.074150\nI don't use social media    0.065777\nLinkedIn                    0.053306\nWeChat 微信                   0.007899\nSnapchat                    0.007437\nVK ВКонта́кте               0.007141\nWeibo 新浪微博                  0.000663\nYouku Tudou 优酷              0.000249\nHello                       0.000225\nName: SocialMedia, dtype: float64"
     },
     "metadata": {},
     "execution_count": 417
    }
   ],
   "source": [
    "df_public.SocialMedia.value_counts(normalize=True)   #normalize=True to get the values based on percentage but not on count "
   ]
  },
  {
   "source": [
    "# Grouping\n",
    "if you want to find the mean or median or any other information based on country because each country has different cost of living.in this case grouping of data is very much usefull <br>\n",
    "groupby involves 3 steps <br>\n",
    "1.Splitting <br>\n",
    "2.Applying Function <br>\n",
    "3.Combine Results\n"
   ],
   "cell_type": "markdown",
   "metadata": {}
  },
  {
   "cell_type": "code",
   "execution_count": 421,
   "metadata": {},
   "outputs": [
    {
     "output_type": "execute_result",
     "data": {
      "text/plain": "United States        20949\nIndia                 9061\nGermany               5866\nUnited Kingdom        5737\nCanada                3395\n                     ...  \nNiger                    1\nBrunei Darussalam        1\nNorth Korea              1\nTonga                    1\nChad                     1\nName: Country, Length: 179, dtype: int64"
     },
     "metadata": {},
     "execution_count": 421
    }
   ],
   "source": [
    "df_public['Country'].value_counts()"
   ]
  },
  {
   "cell_type": "code",
   "execution_count": 423,
   "metadata": {},
   "outputs": [],
   "source": [
    "country_grp = df_public.groupby(['Country'])   # It returns pandas.core.groupby.generic.DataFrameGroupBy object"
   ]
  },
  {
   "cell_type": "code",
   "execution_count": 446,
   "metadata": {},
   "outputs": [
    {
     "output_type": "execute_result",
     "data": {
      "text/plain": "['Age',\n 'Age1stCode',\n 'BetterLife',\n 'BlockchainIs',\n 'BlockchainOrg',\n 'CareerSat',\n 'CodeRev',\n 'CodeRevHrs',\n 'CompFreq',\n 'CompTotal',\n 'Containers',\n 'ConvertedComp',\n 'Country',\n 'CurrencyDesc',\n 'CurrencySymbol',\n 'DatabaseDesireNextYear',\n 'DatabaseWorkedWith',\n 'Dependents',\n 'DevEnviron',\n 'DevType',\n 'EdLevel',\n 'EduOther',\n 'Employment',\n 'EntTeams',\n 'Ethnicity',\n 'Extraversion',\n 'FizzBuzz',\n 'Gender',\n 'Hobbyist',\n 'ITperson',\n 'ImpSyn',\n 'JobFactors',\n 'JobSat',\n 'JobSeek',\n 'LanguageDesireNextYear',\n 'LanguageWorkedWith',\n 'LastHireDate',\n 'LastInt',\n 'MainBranch',\n 'MgrIdiot',\n 'MgrMoney',\n 'MgrWant',\n 'MiscTechDesireNextYear',\n 'MiscTechWorkedWith',\n 'OffOn',\n 'OpSys',\n 'OpenSource',\n 'OpenSourcer',\n 'OrgSize',\n 'PlatformDesireNextYear',\n 'PlatformWorkedWith',\n 'PurchaseHow',\n 'PurchaseWhat',\n 'ResumeUpdate',\n 'SOAccount',\n 'SOComm',\n 'SOFindAnswer',\n 'SOHowMuchTime',\n 'SOJobs',\n 'SONewContent',\n 'SOPartFreq',\n 'SOTimeSaved',\n 'SOVisit1st',\n 'SOVisitFreq',\n 'SOVisitTo',\n 'ScreenName',\n 'Sexuality',\n 'SocialMedia',\n 'Student',\n 'SurveyEase',\n 'SurveyLength',\n 'Trans',\n 'UndergradMajor',\n 'UnitTests',\n 'WebFrameDesireNextYear',\n 'WebFrameWorkedWith',\n 'WelcomeChange',\n 'WorkChallenge',\n 'WorkLoc',\n 'WorkPlan',\n 'WorkRemote',\n 'WorkWeekHrs',\n 'YearsCode',\n 'YearsCodePro',\n '__annotations__',\n '__class__',\n '__class_getitem__',\n '__delattr__',\n '__dict__',\n '__dir__',\n '__doc__',\n '__eq__',\n '__format__',\n '__ge__',\n '__getattr__',\n '__getattribute__',\n '__getitem__',\n '__gt__',\n '__hash__',\n '__init__',\n '__init_subclass__',\n '__iter__',\n '__le__',\n '__len__',\n '__lt__',\n '__module__',\n '__ne__',\n '__new__',\n '__orig_bases__',\n '__parameters__',\n '__reduce__',\n '__reduce_ex__',\n '__repr__',\n '__setattr__',\n '__sizeof__',\n '__slots__',\n '__str__',\n '__subclasshook__',\n '__weakref__',\n '_accessors',\n '_agg_examples_doc',\n '_agg_general',\n '_aggregate',\n '_aggregate_frame',\n '_aggregate_item_by_item',\n '_aggregate_multiple_funcs',\n '_apply_allowlist',\n '_apply_filter',\n '_apply_to_column_groupbys',\n '_assure_grouper',\n '_bool_agg',\n '_builtin_table',\n '_choose_path',\n '_concat_objects',\n '_constructor',\n '_cumcount_array',\n '_cython_agg_blocks',\n '_cython_agg_general',\n '_cython_table',\n '_cython_transform',\n '_define_paths',\n '_deprecations',\n '_dir_additions',\n '_dir_deletions',\n '_fill',\n '_get_cython_func',\n '_get_cythonized_result',\n '_get_data_to_aggregate',\n '_get_index',\n '_get_indices',\n '_gotitem',\n '_group_selection',\n '_insert_inaxis_grouper_inplace',\n '_internal_names',\n '_internal_names_set',\n '_is_builtin_func',\n '_is_protocol',\n '_iterate_column_groupbys',\n '_iterate_slices',\n '_make_wrapper',\n '_obj_1d_constructor',\n '_obj_with_exclusions',\n '_python_agg_general',\n '_python_apply_general',\n '_reindex_output',\n '_reset_cache',\n '_reset_group_selection',\n '_selected_obj',\n '_selection',\n '_selection_list',\n '_selection_name',\n '_set_group_selection',\n '_set_result_index_ordered',\n '_transform_fast',\n '_transform_general',\n '_transform_item_by_item',\n '_transform_should_cast',\n '_try_aggregate_string_function',\n '_wrap_agged_blocks',\n '_wrap_aggregated_output',\n '_wrap_applied_output',\n '_wrap_frame_output',\n '_wrap_transformed_output',\n 'agg',\n 'aggregate',\n 'all',\n 'any',\n 'apply',\n 'backfill',\n 'bfill',\n 'boxplot',\n 'corr',\n 'corrwith',\n 'count',\n 'cov',\n 'cumcount',\n 'cummax',\n 'cummin',\n 'cumprod',\n 'cumsum',\n 'describe',\n 'diff',\n 'dtypes',\n 'expanding',\n 'ffill',\n 'fillna',\n 'filter',\n 'first',\n 'get_group',\n 'groups',\n 'head',\n 'hist',\n 'idxmax',\n 'idxmin',\n 'indices',\n 'last',\n 'mad',\n 'max',\n 'mean',\n 'median',\n 'min',\n 'ndim',\n 'ngroup',\n 'ngroups',\n 'nth',\n 'nunique',\n 'ohlc',\n 'pad',\n 'pct_change',\n 'pipe',\n 'plot',\n 'prod',\n 'quantile',\n 'rank',\n 'resample',\n 'rolling',\n 'sample',\n 'sem',\n 'shift',\n 'size',\n 'skew',\n 'std',\n 'sum',\n 'tail',\n 'take',\n 'transform',\n 'tshift',\n 'var']"
     },
     "metadata": {},
     "execution_count": 446
    }
   ],
   "source": [
    "dir(country_grp)"
   ]
  },
  {
   "cell_type": "code",
   "execution_count": 425,
   "metadata": {},
   "outputs": [
    {
     "output_type": "execute_result",
     "data": {
      "text/plain": "                                        MainBranch Hobbyist  \\\nRespondent                                                    \n8                      I code primarily as a hobby      Yes   \n10                  I am a developer by profession      Yes   \n15          I am a student who is learning to code      Yes   \n50                  I am a developer by profession      Yes   \n65                  I am a developer by profession      Yes   \n...                                            ...      ...   \n77339                                          NaN      Yes   \n79795                                          NaN      Yes   \n83862                                          NaN      Yes   \n84299                                          NaN      Yes   \n86012                                          NaN      Yes   \n\n                                                  OpenSourcer  \\\nRespondent                                                      \n8                                     Less than once per year   \n10                                 Once a month or more often   \n15                                                      Never   \n50                                 Once a month or more often   \n65                                                      Never   \n...                                                       ...   \n77339                                 Less than once per year   \n79795       Less than once a month but more than once per ...   \n83862                              Once a month or more often   \n84299                                                   Never   \n86012                              Once a month or more often   \n\n                                                   OpenSource  \\\nRespondent                                                      \n8           OSS is, on average, of HIGHER quality than pro...   \n10          OSS is, on average, of HIGHER quality than pro...   \n15          OSS is, on average, of HIGHER quality than pro...   \n50          OSS is, on average, of LOWER quality than prop...   \n65                                                        NaN   \n...                                                       ...   \n77339       OSS is, on average, of HIGHER quality than pro...   \n79795       OSS is, on average, of HIGHER quality than pro...   \n83862       OSS is, on average, of HIGHER quality than pro...   \n84299       The quality of OSS and closed source software ...   \n86012       OSS is, on average, of HIGHER quality than pro...   \n\n                                    Employment         Student  \\\nRespondent                                                       \n8           Not employed, but looking for work             NaN   \n10                          Employed full-time              No   \n15          Not employed, but looking for work  Yes, full-time   \n50                          Employed full-time              No   \n65                          Employed full-time              No   \n...                                        ...             ...   \n77339                       Employed full-time  Yes, full-time   \n79795                       Employed full-time              No   \n83862                       Employed full-time  Yes, full-time   \n84299                       Employed full-time  Yes, full-time   \n86012                       Employed full-time              No   \n\n                                                      EdLevel  \\\nRespondent                                                      \n8                    Bachelor’s degree (BA, BS, B.Eng., etc.)   \n10                Master’s degree (MA, MS, M.Eng., MBA, etc.)   \n15          Secondary school (e.g. American high school, G...   \n50                   Bachelor’s degree (BA, BS, B.Eng., etc.)   \n65                   Bachelor’s degree (BA, BS, B.Eng., etc.)   \n...                                                       ...   \n77339                Bachelor’s degree (BA, BS, B.Eng., etc.)   \n79795                Bachelor’s degree (BA, BS, B.Eng., etc.)   \n83862                Bachelor’s degree (BA, BS, B.Eng., etc.)   \n84299                Bachelor’s degree (BA, BS, B.Eng., etc.)   \n86012             Master’s degree (MA, MS, M.Eng., MBA, etc.)   \n\n                                               UndergradMajor  \\\nRespondent                                                      \n8           Computer science, computer engineering, or sof...   \n10                                                        NaN   \n15                                                        NaN   \n50          Another engineering discipline (ex. civil, ele...   \n65          Information systems, information technology, o...   \n...                                                       ...   \n77339       Another engineering discipline (ex. civil, ele...   \n79795       Computer science, computer engineering, or sof...   \n83862                                                     NaN   \n84299                           Web development or web design   \n86012       Another engineering discipline (ex. civil, ele...   \n\n                                                     EduOther  \\\nRespondent                                                      \n8           Taught yourself a new language, framework, or ...   \n10                                                        NaN   \n15          Taken an online course in programming or softw...   \n50          Received on-the-job training in software devel...   \n65                                                        NaN   \n...                                                       ...   \n77339       Taken an online course in programming or softw...   \n79795       Taken an online course in programming or softw...   \n83862                             Participated in a hackathon   \n84299       Taken an online course in programming or softw...   \n86012       Taught yourself a new language, framework, or ...   \n\n                             OrgSize  ...  \\\nRespondent                            ...   \n8                                NaN  ...   \n10          10,000 or more employees  ...   \n15                               NaN  ...   \n50          10,000 or more employees  ...   \n65                20 to 99 employees  ...   \n...                              ...  ...   \n77339       1,000 to 4,999 employees  ...   \n79795           500 to 999 employees  ...   \n83862                            NaN  ...   \n84299           100 to 499 employees  ...   \n86012           100 to 499 employees  ...   \n\n                                                WelcomeChange  \\\nRespondent                                                      \n8                       A lot more welcome now than last year   \n10                   Somewhat less welcome now than last year   \n15                    Just as welcome now as I felt last year   \n50                    Just as welcome now as I felt last year   \n65                      A lot more welcome now than last year   \n...                                                       ...   \n77339       Not applicable - I did not use Stack Overflow ...   \n79795                Somewhat more welcome now than last year   \n83862                 Just as welcome now as I felt last year   \n84299                Somewhat more welcome now than last year   \n86012       Not applicable - I did not use Stack Overflow ...   \n\n                                                 SONewContent   Age Gender  \\\nRespondent                                                                   \n8           Tech articles written by other developers;Indu...  24.0    Man   \n10          Tech articles written by other developers;Tech...   NaN    NaN   \n15          Tech articles written by other developers;Indu...  20.0    Man   \n50          Tech articles written by other developers;Tech...  23.0    Man   \n65                                                        NaN  21.0    Man   \n...                                                       ...   ...    ...   \n77339       Tech articles written by other developers;Indu...   NaN    NaN   \n79795       Tech meetups or events in your area;Courses on...   NaN    Man   \n83862       Tech articles written by other developers;Indu...  24.0    Man   \n84299                                                     NaN   NaN    NaN   \n86012       Industry news about technologies you're intere...  24.0    Man   \n\n           Trans                Sexuality    Ethnicity Dependents  \\\nRespondent                                                          \n8             No  Straight / Heterosexual          NaN        NaN   \n10           NaN                      NaN          NaN        Yes   \n15            No                      NaN          NaN        Yes   \n50            No                      NaN  South Asian         No   \n65            No                      NaN          NaN        Yes   \n...          ...                      ...          ...        ...   \n77339        NaN                      NaN          NaN        NaN   \n79795         No  Straight / Heterosexual          NaN         No   \n83862         No  Straight / Heterosexual          NaN        Yes   \n84299        NaN                      NaN          NaN        NaN   \n86012         No                      NaN  South Asian        NaN   \n\n                     SurveyLength                  SurveyEase  \nRespondent                                                     \n8           Appropriate in length  Neither easy nor difficult  \n10                       Too long                   Difficult  \n15                       Too long  Neither easy nor difficult  \n50                       Too long                        Easy  \n65          Appropriate in length  Neither easy nor difficult  \n...                           ...                         ...  \n77339                         NaN                         NaN  \n79795                    Too long                   Difficult  \n83862                    Too long  Neither easy nor difficult  \n84299                         NaN                         NaN  \n86012       Appropriate in length                        Easy  \n\n[9061 rows x 83 columns]",
      "text/html": "<div>\n<style scoped>\n    .dataframe tbody tr th:only-of-type {\n        vertical-align: middle;\n    }\n\n    .dataframe tbody tr th {\n        vertical-align: top;\n    }\n\n    .dataframe thead th {\n        text-align: right;\n    }\n</style>\n<table border=\"1\" class=\"dataframe\">\n  <thead>\n    <tr style=\"text-align: right;\">\n      <th></th>\n      <th>MainBranch</th>\n      <th>Hobbyist</th>\n      <th>OpenSourcer</th>\n      <th>OpenSource</th>\n      <th>Employment</th>\n      <th>Student</th>\n      <th>EdLevel</th>\n      <th>UndergradMajor</th>\n      <th>EduOther</th>\n      <th>OrgSize</th>\n      <th>...</th>\n      <th>WelcomeChange</th>\n      <th>SONewContent</th>\n      <th>Age</th>\n      <th>Gender</th>\n      <th>Trans</th>\n      <th>Sexuality</th>\n      <th>Ethnicity</th>\n      <th>Dependents</th>\n      <th>SurveyLength</th>\n      <th>SurveyEase</th>\n    </tr>\n    <tr>\n      <th>Respondent</th>\n      <th></th>\n      <th></th>\n      <th></th>\n      <th></th>\n      <th></th>\n      <th></th>\n      <th></th>\n      <th></th>\n      <th></th>\n      <th></th>\n      <th></th>\n      <th></th>\n      <th></th>\n      <th></th>\n      <th></th>\n      <th></th>\n      <th></th>\n      <th></th>\n      <th></th>\n      <th></th>\n      <th></th>\n    </tr>\n  </thead>\n  <tbody>\n    <tr>\n      <th>8</th>\n      <td>I code primarily as a hobby</td>\n      <td>Yes</td>\n      <td>Less than once per year</td>\n      <td>OSS is, on average, of HIGHER quality than pro...</td>\n      <td>Not employed, but looking for work</td>\n      <td>NaN</td>\n      <td>Bachelor’s degree (BA, BS, B.Eng., etc.)</td>\n      <td>Computer science, computer engineering, or sof...</td>\n      <td>Taught yourself a new language, framework, or ...</td>\n      <td>NaN</td>\n      <td>...</td>\n      <td>A lot more welcome now than last year</td>\n      <td>Tech articles written by other developers;Indu...</td>\n      <td>24.0</td>\n      <td>Man</td>\n      <td>No</td>\n      <td>Straight / Heterosexual</td>\n      <td>NaN</td>\n      <td>NaN</td>\n      <td>Appropriate in length</td>\n      <td>Neither easy nor difficult</td>\n    </tr>\n    <tr>\n      <th>10</th>\n      <td>I am a developer by profession</td>\n      <td>Yes</td>\n      <td>Once a month or more often</td>\n      <td>OSS is, on average, of HIGHER quality than pro...</td>\n      <td>Employed full-time</td>\n      <td>No</td>\n      <td>Master’s degree (MA, MS, M.Eng., MBA, etc.)</td>\n      <td>NaN</td>\n      <td>NaN</td>\n      <td>10,000 or more employees</td>\n      <td>...</td>\n      <td>Somewhat less welcome now than last year</td>\n      <td>Tech articles written by other developers;Tech...</td>\n      <td>NaN</td>\n      <td>NaN</td>\n      <td>NaN</td>\n      <td>NaN</td>\n      <td>NaN</td>\n      <td>Yes</td>\n      <td>Too long</td>\n      <td>Difficult</td>\n    </tr>\n    <tr>\n      <th>15</th>\n      <td>I am a student who is learning to code</td>\n      <td>Yes</td>\n      <td>Never</td>\n      <td>OSS is, on average, of HIGHER quality than pro...</td>\n      <td>Not employed, but looking for work</td>\n      <td>Yes, full-time</td>\n      <td>Secondary school (e.g. American high school, G...</td>\n      <td>NaN</td>\n      <td>Taken an online course in programming or softw...</td>\n      <td>NaN</td>\n      <td>...</td>\n      <td>Just as welcome now as I felt last year</td>\n      <td>Tech articles written by other developers;Indu...</td>\n      <td>20.0</td>\n      <td>Man</td>\n      <td>No</td>\n      <td>NaN</td>\n      <td>NaN</td>\n      <td>Yes</td>\n      <td>Too long</td>\n      <td>Neither easy nor difficult</td>\n    </tr>\n    <tr>\n      <th>50</th>\n      <td>I am a developer by profession</td>\n      <td>Yes</td>\n      <td>Once a month or more often</td>\n      <td>OSS is, on average, of LOWER quality than prop...</td>\n      <td>Employed full-time</td>\n      <td>No</td>\n      <td>Bachelor’s degree (BA, BS, B.Eng., etc.)</td>\n      <td>Another engineering discipline (ex. civil, ele...</td>\n      <td>Received on-the-job training in software devel...</td>\n      <td>10,000 or more employees</td>\n      <td>...</td>\n      <td>Just as welcome now as I felt last year</td>\n      <td>Tech articles written by other developers;Tech...</td>\n      <td>23.0</td>\n      <td>Man</td>\n      <td>No</td>\n      <td>NaN</td>\n      <td>South Asian</td>\n      <td>No</td>\n      <td>Too long</td>\n      <td>Easy</td>\n    </tr>\n    <tr>\n      <th>65</th>\n      <td>I am a developer by profession</td>\n      <td>Yes</td>\n      <td>Never</td>\n      <td>NaN</td>\n      <td>Employed full-time</td>\n      <td>No</td>\n      <td>Bachelor’s degree (BA, BS, B.Eng., etc.)</td>\n      <td>Information systems, information technology, o...</td>\n      <td>NaN</td>\n      <td>20 to 99 employees</td>\n      <td>...</td>\n      <td>A lot more welcome now than last year</td>\n      <td>NaN</td>\n      <td>21.0</td>\n      <td>Man</td>\n      <td>No</td>\n      <td>NaN</td>\n      <td>NaN</td>\n      <td>Yes</td>\n      <td>Appropriate in length</td>\n      <td>Neither easy nor difficult</td>\n    </tr>\n    <tr>\n      <th>...</th>\n      <td>...</td>\n      <td>...</td>\n      <td>...</td>\n      <td>...</td>\n      <td>...</td>\n      <td>...</td>\n      <td>...</td>\n      <td>...</td>\n      <td>...</td>\n      <td>...</td>\n      <td>...</td>\n      <td>...</td>\n      <td>...</td>\n      <td>...</td>\n      <td>...</td>\n      <td>...</td>\n      <td>...</td>\n      <td>...</td>\n      <td>...</td>\n      <td>...</td>\n      <td>...</td>\n    </tr>\n    <tr>\n      <th>77339</th>\n      <td>NaN</td>\n      <td>Yes</td>\n      <td>Less than once per year</td>\n      <td>OSS is, on average, of HIGHER quality than pro...</td>\n      <td>Employed full-time</td>\n      <td>Yes, full-time</td>\n      <td>Bachelor’s degree (BA, BS, B.Eng., etc.)</td>\n      <td>Another engineering discipline (ex. civil, ele...</td>\n      <td>Taken an online course in programming or softw...</td>\n      <td>1,000 to 4,999 employees</td>\n      <td>...</td>\n      <td>Not applicable - I did not use Stack Overflow ...</td>\n      <td>Tech articles written by other developers;Indu...</td>\n      <td>NaN</td>\n      <td>NaN</td>\n      <td>NaN</td>\n      <td>NaN</td>\n      <td>NaN</td>\n      <td>NaN</td>\n      <td>NaN</td>\n      <td>NaN</td>\n    </tr>\n    <tr>\n      <th>79795</th>\n      <td>NaN</td>\n      <td>Yes</td>\n      <td>Less than once a month but more than once per ...</td>\n      <td>OSS is, on average, of HIGHER quality than pro...</td>\n      <td>Employed full-time</td>\n      <td>No</td>\n      <td>Bachelor’s degree (BA, BS, B.Eng., etc.)</td>\n      <td>Computer science, computer engineering, or sof...</td>\n      <td>Taken an online course in programming or softw...</td>\n      <td>500 to 999 employees</td>\n      <td>...</td>\n      <td>Somewhat more welcome now than last year</td>\n      <td>Tech meetups or events in your area;Courses on...</td>\n      <td>NaN</td>\n      <td>Man</td>\n      <td>No</td>\n      <td>Straight / Heterosexual</td>\n      <td>NaN</td>\n      <td>No</td>\n      <td>Too long</td>\n      <td>Difficult</td>\n    </tr>\n    <tr>\n      <th>83862</th>\n      <td>NaN</td>\n      <td>Yes</td>\n      <td>Once a month or more often</td>\n      <td>OSS is, on average, of HIGHER quality than pro...</td>\n      <td>Employed full-time</td>\n      <td>Yes, full-time</td>\n      <td>Bachelor’s degree (BA, BS, B.Eng., etc.)</td>\n      <td>NaN</td>\n      <td>Participated in a hackathon</td>\n      <td>NaN</td>\n      <td>...</td>\n      <td>Just as welcome now as I felt last year</td>\n      <td>Tech articles written by other developers;Indu...</td>\n      <td>24.0</td>\n      <td>Man</td>\n      <td>No</td>\n      <td>Straight / Heterosexual</td>\n      <td>NaN</td>\n      <td>Yes</td>\n      <td>Too long</td>\n      <td>Neither easy nor difficult</td>\n    </tr>\n    <tr>\n      <th>84299</th>\n      <td>NaN</td>\n      <td>Yes</td>\n      <td>Never</td>\n      <td>The quality of OSS and closed source software ...</td>\n      <td>Employed full-time</td>\n      <td>Yes, full-time</td>\n      <td>Bachelor’s degree (BA, BS, B.Eng., etc.)</td>\n      <td>Web development or web design</td>\n      <td>Taken an online course in programming or softw...</td>\n      <td>100 to 499 employees</td>\n      <td>...</td>\n      <td>Somewhat more welcome now than last year</td>\n      <td>NaN</td>\n      <td>NaN</td>\n      <td>NaN</td>\n      <td>NaN</td>\n      <td>NaN</td>\n      <td>NaN</td>\n      <td>NaN</td>\n      <td>NaN</td>\n      <td>NaN</td>\n    </tr>\n    <tr>\n      <th>86012</th>\n      <td>NaN</td>\n      <td>Yes</td>\n      <td>Once a month or more often</td>\n      <td>OSS is, on average, of HIGHER quality than pro...</td>\n      <td>Employed full-time</td>\n      <td>No</td>\n      <td>Master’s degree (MA, MS, M.Eng., MBA, etc.)</td>\n      <td>Another engineering discipline (ex. civil, ele...</td>\n      <td>Taught yourself a new language, framework, or ...</td>\n      <td>100 to 499 employees</td>\n      <td>...</td>\n      <td>Not applicable - I did not use Stack Overflow ...</td>\n      <td>Industry news about technologies you're intere...</td>\n      <td>24.0</td>\n      <td>Man</td>\n      <td>No</td>\n      <td>NaN</td>\n      <td>South Asian</td>\n      <td>NaN</td>\n      <td>Appropriate in length</td>\n      <td>Easy</td>\n    </tr>\n  </tbody>\n</table>\n<p>9061 rows × 83 columns</p>\n</div>"
     },
     "metadata": {},
     "execution_count": 425
    }
   ],
   "source": [
    "country_grp.get_group('India')"
   ]
  },
  {
   "cell_type": "code",
   "execution_count": 428,
   "metadata": {},
   "outputs": [
    {
     "output_type": "execute_result",
     "data": {
      "text/plain": "Country              SocialMedia             \nAfghanistan          Facebook                     15\n                     YouTube                       9\n                     I don't use social media      6\n                     WhatsApp                      4\n                     Instagram                     1\n                     LinkedIn                      1\n                     Twitter                       1\nAlbania              WhatsApp                     18\n                     Facebook                     16\n                     Instagram                    13\n                     YouTube                      10\n                     Twitter                       8\n                     LinkedIn                      7\n                     Reddit                        6\n                     I don't use social media      4\n                     Snapchat                      1\n                     WeChat 微信                     1\nAlgeria              YouTube                      42\n                     Facebook                     41\n                     Twitter                      14\n                     LinkedIn                      9\n                     I don't use social media      7\n                     Instagram                     7\n                     Reddit                        2\n                     WhatsApp                      2\nAndorra              Facebook                      2\n                     I don't use social media      2\n                     Reddit                        1\n                     Snapchat                      1\n                     YouTube                       1\nAngola               Twitter                       2\n                     Facebook                      1\n                     YouTube                       1\nAntigua and Barbuda  YouTube                       2\n                     Facebook                      1\n                     Instagram                     1\n                     Twitter                       1\n                     VK ВКонта́кте                 1\nArgentina            WhatsApp                    202\n                     Twitter                      80\n                     YouTube                      62\n                     Instagram                    53\n                     Reddit                       50\n                     Facebook                     45\n                     I don't use social media     22\n                     LinkedIn                     16\nArmenia              Facebook                     38\n                     YouTube                      23\n                     LinkedIn                      5\n                     Instagram                     3\nName: SocialMedia, dtype: int64"
     },
     "metadata": {},
     "execution_count": 428
    }
   ],
   "source": [
    "country_grp['SocialMedia'].value_counts().head(50)"
   ]
  },
  {
   "cell_type": "code",
   "execution_count": 438,
   "metadata": {},
   "outputs": [
    {
     "output_type": "execute_result",
     "data": {
      "text/plain": "SocialMedia\nWhatsApp                    2990\nYouTube                     1820\nLinkedIn                     955\nFacebook                     841\nInstagram                    822\nTwitter                      542\nReddit                       473\nI don't use social media     250\nSnapchat                      23\nHello                          5\nWeChat 微信                      5\nVK ВКонта́кте                  4\nYouku Tudou 优酷                 2\nWeibo 新浪微博                     1\nName: SocialMedia, dtype: int64"
     },
     "metadata": {},
     "execution_count": 438
    }
   ],
   "source": [
    "#you cando the same thing by using filter also\n",
    "filt = df_public['Country'] == 'India'\n",
    "df_public.loc[filt]['SocialMedia'].value_counts()\n",
    "\n",
    "#but the difference you dont have to change the filter always\n",
    "\n",
    "country_grp['SocialMedia'].value_counts().loc['India']\n",
    "# here country_grp['SocialMedia'].value_counts() is the dataframe like structure"
   ]
  },
  {
   "cell_type": "code",
   "execution_count": 443,
   "metadata": {},
   "outputs": [
    {
     "output_type": "execute_result",
     "data": {
      "text/plain": "Country\nAfghanistan                               6222.0\nAlbania                                  10818.0\nAlgeria                                   7878.0\nAndorra                                 160931.0\nAngola                                    7764.0\n                                          ...   \nVenezuela, Bolivarian Republic of...      6384.0\nViet Nam                                 11892.0\nYemen                                    11940.0\nZambia                                    5040.0\nZimbabwe                                 19200.0\nName: ConvertedComp, Length: 179, dtype: float64"
     },
     "metadata": {},
     "execution_count": 443
    }
   ],
   "source": [
    "country_grp['ConvertedComp'].median()"
   ]
  },
  {
   "cell_type": "code",
   "execution_count": 445,
   "metadata": {},
   "outputs": [
    {
     "output_type": "execute_result",
     "data": {
      "text/plain": "10080.0"
     },
     "metadata": {},
     "execution_count": 445
    }
   ],
   "source": [
    "country_grp['ConvertedComp'].median().loc['India']"
   ]
  },
  {
   "cell_type": "code",
   "execution_count": 447,
   "metadata": {},
   "outputs": [
    {
     "output_type": "execute_result",
     "data": {
      "text/plain": "                                        median           mean\nCountry                                                      \nAfghanistan                             6222.0  101953.333333\nAlbania                                10818.0   21833.700000\nAlgeria                                 7878.0   34924.047619\nAndorra                               160931.0  160931.000000\nAngola                                  7764.0    7764.000000\n...                                        ...            ...\nVenezuela, Bolivarian Republic of...    6384.0   14581.627907\nViet Nam                               11892.0   17233.436782\nYemen                                  11940.0   16909.166667\nZambia                                  5040.0   10075.375000\nZimbabwe                               19200.0   34046.666667\n\n[179 rows x 2 columns]",
      "text/html": "<div>\n<style scoped>\n    .dataframe tbody tr th:only-of-type {\n        vertical-align: middle;\n    }\n\n    .dataframe tbody tr th {\n        vertical-align: top;\n    }\n\n    .dataframe thead th {\n        text-align: right;\n    }\n</style>\n<table border=\"1\" class=\"dataframe\">\n  <thead>\n    <tr style=\"text-align: right;\">\n      <th></th>\n      <th>median</th>\n      <th>mean</th>\n    </tr>\n    <tr>\n      <th>Country</th>\n      <th></th>\n      <th></th>\n    </tr>\n  </thead>\n  <tbody>\n    <tr>\n      <th>Afghanistan</th>\n      <td>6222.0</td>\n      <td>101953.333333</td>\n    </tr>\n    <tr>\n      <th>Albania</th>\n      <td>10818.0</td>\n      <td>21833.700000</td>\n    </tr>\n    <tr>\n      <th>Algeria</th>\n      <td>7878.0</td>\n      <td>34924.047619</td>\n    </tr>\n    <tr>\n      <th>Andorra</th>\n      <td>160931.0</td>\n      <td>160931.000000</td>\n    </tr>\n    <tr>\n      <th>Angola</th>\n      <td>7764.0</td>\n      <td>7764.000000</td>\n    </tr>\n    <tr>\n      <th>...</th>\n      <td>...</td>\n      <td>...</td>\n    </tr>\n    <tr>\n      <th>Venezuela, Bolivarian Republic of...</th>\n      <td>6384.0</td>\n      <td>14581.627907</td>\n    </tr>\n    <tr>\n      <th>Viet Nam</th>\n      <td>11892.0</td>\n      <td>17233.436782</td>\n    </tr>\n    <tr>\n      <th>Yemen</th>\n      <td>11940.0</td>\n      <td>16909.166667</td>\n    </tr>\n    <tr>\n      <th>Zambia</th>\n      <td>5040.0</td>\n      <td>10075.375000</td>\n    </tr>\n    <tr>\n      <th>Zimbabwe</th>\n      <td>19200.0</td>\n      <td>34046.666667</td>\n    </tr>\n  </tbody>\n</table>\n<p>179 rows × 2 columns</p>\n</div>"
     },
     "metadata": {},
     "execution_count": 447
    }
   ],
   "source": [
    "country_grp['ConvertedComp'].agg(['median','mean'])"
   ]
  },
  {
   "cell_type": "code",
   "execution_count": 448,
   "metadata": {},
   "outputs": [
    {
     "output_type": "execute_result",
     "data": {
      "text/plain": "median     68705.000000\nmean      134018.564909\nName: Canada, dtype: float64"
     },
     "metadata": {},
     "execution_count": 448
    }
   ],
   "source": [
    "country_grp['ConvertedComp'].agg(['median','mean']).loc['Canada']"
   ]
  },
  {
   "cell_type": "code",
   "execution_count": 453,
   "metadata": {},
   "outputs": [
    {
     "output_type": "execute_result",
     "data": {
      "text/plain": "False    0.648915\nTrue     0.351085\nName: LanguageWorkedWith, dtype: float64"
     },
     "metadata": {},
     "execution_count": 453
    }
   ],
   "source": [
    "#to know how many people from india know pyython\n",
    "filt = df_public['Country'] == 'India'\n",
    "df_public.loc[filt]['LanguageWorkedWith'].str.contains('Python').value_counts(normalize=True)"
   ]
  },
  {
   "cell_type": "code",
   "execution_count": 457,
   "metadata": {},
   "outputs": [
    {
     "output_type": "execute_result",
     "data": {
      "text/plain": "1"
     },
     "metadata": {},
     "execution_count": 457
    }
   ],
   "source": [
    "sum([True,False])"
   ]
  },
  {
   "cell_type": "code",
   "execution_count": 458,
   "metadata": {},
   "outputs": [
    {
     "output_type": "execute_result",
     "data": {
      "text/plain": "3105"
     },
     "metadata": {},
     "execution_count": 458
    }
   ],
   "source": [
    "#you can also use this but sum only return the no of people who know python\n",
    "df_public.loc[filt]['LanguageWorkedWith'].str.contains('Python').sum()"
   ]
  },
  {
   "cell_type": "code",
   "execution_count": 461,
   "metadata": {},
   "outputs": [
    {
     "output_type": "error",
     "ename": "AttributeError",
     "evalue": "'SeriesGroupBy' object has no attribute 'str'",
     "traceback": [
      "\u001b[1;31m---------------------------------------------------------------------------\u001b[0m",
      "\u001b[1;31mAttributeError\u001b[0m                            Traceback (most recent call last)",
      "\u001b[1;32m<ipython-input-461-15446e1763bd>\u001b[0m in \u001b[0;36m<module>\u001b[1;34m\u001b[0m\n\u001b[1;32m----> 1\u001b[1;33m \u001b[0mcountry_grp\u001b[0m\u001b[1;33m[\u001b[0m\u001b[1;34m'LanguageWorkedWith'\u001b[0m\u001b[1;33m]\u001b[0m\u001b[1;33m.\u001b[0m\u001b[0mstr\u001b[0m\u001b[1;33m.\u001b[0m\u001b[0mcontains\u001b[0m\u001b[1;33m(\u001b[0m\u001b[1;34m'Python'\u001b[0m\u001b[1;33m)\u001b[0m\u001b[1;33m.\u001b[0m\u001b[0msum\u001b[0m\u001b[1;33m(\u001b[0m\u001b[1;33m)\u001b[0m\u001b[1;33m\u001b[0m\u001b[1;33m\u001b[0m\u001b[0m\n\u001b[0m\u001b[0;32m      2\u001b[0m \u001b[1;31m#str method do not work you have to use apply methos when you are working with pandasgroupbyobject\u001b[0m\u001b[1;33m\u001b[0m\u001b[1;33m\u001b[0m\u001b[1;33m\u001b[0m\u001b[0m\n",
      "\u001b[1;32m~\\AppData\\Local\\Programs\\Python\\Python38\\lib\\site-packages\\pandas\\core\\groupby\\groupby.py\u001b[0m in \u001b[0;36m__getattr__\u001b[1;34m(self, attr)\u001b[0m\n\u001b[0;32m    701\u001b[0m             \u001b[1;32mreturn\u001b[0m \u001b[0mself\u001b[0m\u001b[1;33m[\u001b[0m\u001b[0mattr\u001b[0m\u001b[1;33m]\u001b[0m\u001b[1;33m\u001b[0m\u001b[1;33m\u001b[0m\u001b[0m\n\u001b[0;32m    702\u001b[0m \u001b[1;33m\u001b[0m\u001b[0m\n\u001b[1;32m--> 703\u001b[1;33m         raise AttributeError(\n\u001b[0m\u001b[0;32m    704\u001b[0m             \u001b[1;34mf\"'{type(self).__name__}' object has no attribute '{attr}'\"\u001b[0m\u001b[1;33m\u001b[0m\u001b[1;33m\u001b[0m\u001b[0m\n\u001b[0;32m    705\u001b[0m         )\n",
      "\u001b[1;31mAttributeError\u001b[0m: 'SeriesGroupBy' object has no attribute 'str'"
     ]
    }
   ],
   "source": [
    "country_grp['LanguageWorkedWith'].str.contains('Python').sum()\n",
    "#str method do not work you have to use apply methos when you are working with pandasgroupbyobject"
   ]
  },
  {
   "cell_type": "code",
   "execution_count": 463,
   "metadata": {
    "tags": []
   },
   "outputs": [
    {
     "output_type": "stream",
     "name": "stdout",
     "text": "<pandas.core.groupby.generic.SeriesGroupBy object at 0x0000020F24BAA520>\n"
    }
   ],
   "source": [
    "print(country_grp['LanguageWorkedWith'])"
   ]
  },
  {
   "cell_type": "code",
   "execution_count": 470,
   "metadata": {},
   "outputs": [
    {
     "output_type": "execute_result",
     "data": {
      "text/plain": "Respondent\n1         True\n2         True\n3        False\n4         True\n5         True\n         ...  \n88377    False\n88601      NaN\n88802      NaN\n88816      NaN\n88863    False\nName: LanguageWorkedWith, Length: 88883, dtype: object"
     },
     "metadata": {},
     "execution_count": 470
    }
   ],
   "source": [
    "country_grp['LanguageWorkedWith'].apply(lambda x:x.str.contains('Python').sum())"
   ]
  },
  {
   "cell_type": "code",
   "execution_count": 473,
   "metadata": {},
   "outputs": [
    {
     "output_type": "execute_result",
     "data": {
      "text/plain": "United States        20949\nIndia                 9061\nGermany               5866\nUnited Kingdom        5737\nCanada                3395\n                     ...  \nNiger                    1\nBrunei Darussalam        1\nNorth Korea              1\nTonga                    1\nChad                     1\nName: Country, Length: 179, dtype: int64"
     },
     "metadata": {},
     "execution_count": 473
    }
   ],
   "source": [
    "country_respondents = df_public['Country'].value_counts()\n",
    "country_respondents"
   ]
  },
  {
   "cell_type": "code",
   "execution_count": 475,
   "metadata": {},
   "outputs": [
    {
     "output_type": "execute_result",
     "data": {
      "text/plain": "Country\nAfghanistan                              8\nAlbania                                 23\nAlgeria                                 40\nAndorra                                  0\nAngola                                   2\n                                        ..\nVenezuela, Bolivarian Republic of...    28\nViet Nam                                78\nYemen                                    3\nZambia                                   4\nZimbabwe                                14\nName: LanguageWorkedWith, Length: 179, dtype: int64"
     },
     "metadata": {},
     "execution_count": 475
    }
   ],
   "source": [
    "country_uses_python = country_grp['LanguageWorkedWith'].apply(lambda x:x.str.contains('Python').sum())\n",
    "country_uses_python"
   ]
  },
  {
   "cell_type": "code",
   "execution_count": 477,
   "metadata": {},
   "outputs": [
    {
     "output_type": "display_data",
     "data": {
      "text/plain": "<IPython.core.display.Javascript object>",
      "application/javascript": "\n        if (window._pyforest_update_imports_cell) { window._pyforest_update_imports_cell('import pandas as pd\\nimport numpy as np'); }\n    "
     },
     "metadata": {}
    },
    {
     "output_type": "execute_result",
     "data": {
      "text/plain": "                   Country  LanguageWorkedWith\nUnited States        20949               10083\nIndia                 9061                3105\nGermany               5866                2451\nUnited Kingdom        5737                2384\nCanada                3395                1558\n...                    ...                 ...\nNiger                    1                   1\nBrunei Darussalam        1                   0\nNorth Korea              1                   0\nTonga                    1                   0\nChad                     1                   0\n\n[179 rows x 2 columns]",
      "text/html": "<div>\n<style scoped>\n    .dataframe tbody tr th:only-of-type {\n        vertical-align: middle;\n    }\n\n    .dataframe tbody tr th {\n        vertical-align: top;\n    }\n\n    .dataframe thead th {\n        text-align: right;\n    }\n</style>\n<table border=\"1\" class=\"dataframe\">\n  <thead>\n    <tr style=\"text-align: right;\">\n      <th></th>\n      <th>Country</th>\n      <th>LanguageWorkedWith</th>\n    </tr>\n  </thead>\n  <tbody>\n    <tr>\n      <th>United States</th>\n      <td>20949</td>\n      <td>10083</td>\n    </tr>\n    <tr>\n      <th>India</th>\n      <td>9061</td>\n      <td>3105</td>\n    </tr>\n    <tr>\n      <th>Germany</th>\n      <td>5866</td>\n      <td>2451</td>\n    </tr>\n    <tr>\n      <th>United Kingdom</th>\n      <td>5737</td>\n      <td>2384</td>\n    </tr>\n    <tr>\n      <th>Canada</th>\n      <td>3395</td>\n      <td>1558</td>\n    </tr>\n    <tr>\n      <th>...</th>\n      <td>...</td>\n      <td>...</td>\n    </tr>\n    <tr>\n      <th>Niger</th>\n      <td>1</td>\n      <td>1</td>\n    </tr>\n    <tr>\n      <th>Brunei Darussalam</th>\n      <td>1</td>\n      <td>0</td>\n    </tr>\n    <tr>\n      <th>North Korea</th>\n      <td>1</td>\n      <td>0</td>\n    </tr>\n    <tr>\n      <th>Tonga</th>\n      <td>1</td>\n      <td>0</td>\n    </tr>\n    <tr>\n      <th>Chad</th>\n      <td>1</td>\n      <td>0</td>\n    </tr>\n  </tbody>\n</table>\n<p>179 rows × 2 columns</p>\n</div>"
     },
     "metadata": {},
     "execution_count": 477
    }
   ],
   "source": [
    "python_df = pd.concat([country_respondents,country_uses_python],axis='columns')\n",
    "python_df"
   ]
  },
  {
   "cell_type": "code",
   "execution_count": 479,
   "metadata": {},
   "outputs": [],
   "source": [
    "python_df.rename(columns={'Country':'NumResponses','LanguageWorkedWith':'NumKnowsPython'},inplace=True)"
   ]
  },
  {
   "cell_type": "code",
   "execution_count": 480,
   "metadata": {},
   "outputs": [
    {
     "output_type": "execute_result",
     "data": {
      "text/plain": "                   NumResponses  NumKnowsPython\nUnited States             20949           10083\nIndia                      9061            3105\nGermany                    5866            2451\nUnited Kingdom             5737            2384\nCanada                     3395            1558\n...                         ...             ...\nNiger                         1               1\nBrunei Darussalam             1               0\nNorth Korea                   1               0\nTonga                         1               0\nChad                          1               0\n\n[179 rows x 2 columns]",
      "text/html": "<div>\n<style scoped>\n    .dataframe tbody tr th:only-of-type {\n        vertical-align: middle;\n    }\n\n    .dataframe tbody tr th {\n        vertical-align: top;\n    }\n\n    .dataframe thead th {\n        text-align: right;\n    }\n</style>\n<table border=\"1\" class=\"dataframe\">\n  <thead>\n    <tr style=\"text-align: right;\">\n      <th></th>\n      <th>NumResponses</th>\n      <th>NumKnowsPython</th>\n    </tr>\n  </thead>\n  <tbody>\n    <tr>\n      <th>United States</th>\n      <td>20949</td>\n      <td>10083</td>\n    </tr>\n    <tr>\n      <th>India</th>\n      <td>9061</td>\n      <td>3105</td>\n    </tr>\n    <tr>\n      <th>Germany</th>\n      <td>5866</td>\n      <td>2451</td>\n    </tr>\n    <tr>\n      <th>United Kingdom</th>\n      <td>5737</td>\n      <td>2384</td>\n    </tr>\n    <tr>\n      <th>Canada</th>\n      <td>3395</td>\n      <td>1558</td>\n    </tr>\n    <tr>\n      <th>...</th>\n      <td>...</td>\n      <td>...</td>\n    </tr>\n    <tr>\n      <th>Niger</th>\n      <td>1</td>\n      <td>1</td>\n    </tr>\n    <tr>\n      <th>Brunei Darussalam</th>\n      <td>1</td>\n      <td>0</td>\n    </tr>\n    <tr>\n      <th>North Korea</th>\n      <td>1</td>\n      <td>0</td>\n    </tr>\n    <tr>\n      <th>Tonga</th>\n      <td>1</td>\n      <td>0</td>\n    </tr>\n    <tr>\n      <th>Chad</th>\n      <td>1</td>\n      <td>0</td>\n    </tr>\n  </tbody>\n</table>\n<p>179 rows × 2 columns</p>\n</div>"
     },
     "metadata": {},
     "execution_count": 480
    }
   ],
   "source": [
    "python_df"
   ]
  },
  {
   "cell_type": "code",
   "execution_count": 483,
   "metadata": {},
   "outputs": [
    {
     "output_type": "execute_result",
     "data": {
      "text/plain": "                   NumResponses  NumKnowsPython  Percentage\nUnited States             20949           10083   48.131176\nIndia                      9061            3105   34.267741\nGermany                    5866            2451   41.783157\nUnited Kingdom             5737            2384   41.554820\nCanada                     3395            1558   45.891016\n...                         ...             ...         ...\nNiger                         1               1  100.000000\nBrunei Darussalam             1               0    0.000000\nNorth Korea                   1               0    0.000000\nTonga                         1               0    0.000000\nChad                          1               0    0.000000\n\n[179 rows x 3 columns]",
      "text/html": "<div>\n<style scoped>\n    .dataframe tbody tr th:only-of-type {\n        vertical-align: middle;\n    }\n\n    .dataframe tbody tr th {\n        vertical-align: top;\n    }\n\n    .dataframe thead th {\n        text-align: right;\n    }\n</style>\n<table border=\"1\" class=\"dataframe\">\n  <thead>\n    <tr style=\"text-align: right;\">\n      <th></th>\n      <th>NumResponses</th>\n      <th>NumKnowsPython</th>\n      <th>Percentage</th>\n    </tr>\n  </thead>\n  <tbody>\n    <tr>\n      <th>United States</th>\n      <td>20949</td>\n      <td>10083</td>\n      <td>48.131176</td>\n    </tr>\n    <tr>\n      <th>India</th>\n      <td>9061</td>\n      <td>3105</td>\n      <td>34.267741</td>\n    </tr>\n    <tr>\n      <th>Germany</th>\n      <td>5866</td>\n      <td>2451</td>\n      <td>41.783157</td>\n    </tr>\n    <tr>\n      <th>United Kingdom</th>\n      <td>5737</td>\n      <td>2384</td>\n      <td>41.554820</td>\n    </tr>\n    <tr>\n      <th>Canada</th>\n      <td>3395</td>\n      <td>1558</td>\n      <td>45.891016</td>\n    </tr>\n    <tr>\n      <th>...</th>\n      <td>...</td>\n      <td>...</td>\n      <td>...</td>\n    </tr>\n    <tr>\n      <th>Niger</th>\n      <td>1</td>\n      <td>1</td>\n      <td>100.000000</td>\n    </tr>\n    <tr>\n      <th>Brunei Darussalam</th>\n      <td>1</td>\n      <td>0</td>\n      <td>0.000000</td>\n    </tr>\n    <tr>\n      <th>North Korea</th>\n      <td>1</td>\n      <td>0</td>\n      <td>0.000000</td>\n    </tr>\n    <tr>\n      <th>Tonga</th>\n      <td>1</td>\n      <td>0</td>\n      <td>0.000000</td>\n    </tr>\n    <tr>\n      <th>Chad</th>\n      <td>1</td>\n      <td>0</td>\n      <td>0.000000</td>\n    </tr>\n  </tbody>\n</table>\n<p>179 rows × 3 columns</p>\n</div>"
     },
     "metadata": {},
     "execution_count": 483
    }
   ],
   "source": [
    "python_df['Percentage'] = (python_df['NumKnowsPython']/python_df['NumResponses'])*100\n",
    "python_df"
   ]
  },
  {
   "cell_type": "code",
   "execution_count": 489,
   "metadata": {},
   "outputs": [
    {
     "output_type": "execute_result",
     "data": {
      "text/plain": "                                  NumResponses  NumKnowsPython  Percentage\nNiger                                        1               1  100.000000\nTimor-Leste                                  1               1  100.000000\nSao Tome and Principe                        1               1  100.000000\nDominica                                     1               1  100.000000\nTurkmenistan                                 7               6   85.714286\nMauritania                                   7               5   71.428571\nGuyana                                       3               2   66.666667\nGuinea                                       3               2   66.666667\nBahamas                                      3               2   66.666667\nUganda                                      72              47   65.277778\nIceland                                     49              30   61.224490\nNamibia                                      5               3   60.000000\nBenin                                        5               3   60.000000\nHaiti                                        5               3   60.000000\nCongo, Republic of the...                    7               4   57.142857\nOman                                        11               6   54.545455\nCuba                                        30              16   53.333333\nRepublic of Korea                           39              20   51.282051\nSeychelles                                   2               1   50.000000\nMonaco                                       4               2   50.000000\nBhutan                                       2               1   50.000000\nSouth Korea                                160              80   50.000000\nSierra Leone                                 2               1   50.000000\nSan Marino                                   2               1   50.000000\nChile                                      206             102   49.514563\nFinland                                    546             266   48.717949\nKenya                                      249             120   48.192771\nUnited States                            20949           10083   48.131176\nIsrael                                     952             457   48.004202\nEcuador                                     82              39   47.560976\nTaiwan                                     187              88   47.058824\nMongolia                                    17               8   47.058824\nMontenegro                                  17               8   47.058824\nSwitzerland                                978             460   47.034765\nUnited Republic of Tanzania                 32              15   46.875000\nHong Kong (S.A.R.)                         188              88   46.808511\nJapan                                      391             182   46.547315\nMaldives                                    13               6   46.153846\nCanada                                    3395            1558   45.891016\nSingapore                                  303             139   45.874587\nNew Zealand                                524             236   45.038168\nChina                                      664             297   44.728916\nHonduras                                    27              12   44.444444\nFrance                                    2391            1054   44.081974\nIraq                                        39              17   43.589744\nThailand                                   214              92   42.990654\nDemocratic Republic of the Congo             7               3   42.857143\nNepal                                      237             101   42.616034\nEstonia                                    195              82   42.051282\nRussian Federation                        1694             708   41.794569",
      "text/html": "<div>\n<style scoped>\n    .dataframe tbody tr th:only-of-type {\n        vertical-align: middle;\n    }\n\n    .dataframe tbody tr th {\n        vertical-align: top;\n    }\n\n    .dataframe thead th {\n        text-align: right;\n    }\n</style>\n<table border=\"1\" class=\"dataframe\">\n  <thead>\n    <tr style=\"text-align: right;\">\n      <th></th>\n      <th>NumResponses</th>\n      <th>NumKnowsPython</th>\n      <th>Percentage</th>\n    </tr>\n  </thead>\n  <tbody>\n    <tr>\n      <th>Niger</th>\n      <td>1</td>\n      <td>1</td>\n      <td>100.000000</td>\n    </tr>\n    <tr>\n      <th>Timor-Leste</th>\n      <td>1</td>\n      <td>1</td>\n      <td>100.000000</td>\n    </tr>\n    <tr>\n      <th>Sao Tome and Principe</th>\n      <td>1</td>\n      <td>1</td>\n      <td>100.000000</td>\n    </tr>\n    <tr>\n      <th>Dominica</th>\n      <td>1</td>\n      <td>1</td>\n      <td>100.000000</td>\n    </tr>\n    <tr>\n      <th>Turkmenistan</th>\n      <td>7</td>\n      <td>6</td>\n      <td>85.714286</td>\n    </tr>\n    <tr>\n      <th>Mauritania</th>\n      <td>7</td>\n      <td>5</td>\n      <td>71.428571</td>\n    </tr>\n    <tr>\n      <th>Guyana</th>\n      <td>3</td>\n      <td>2</td>\n      <td>66.666667</td>\n    </tr>\n    <tr>\n      <th>Guinea</th>\n      <td>3</td>\n      <td>2</td>\n      <td>66.666667</td>\n    </tr>\n    <tr>\n      <th>Bahamas</th>\n      <td>3</td>\n      <td>2</td>\n      <td>66.666667</td>\n    </tr>\n    <tr>\n      <th>Uganda</th>\n      <td>72</td>\n      <td>47</td>\n      <td>65.277778</td>\n    </tr>\n    <tr>\n      <th>Iceland</th>\n      <td>49</td>\n      <td>30</td>\n      <td>61.224490</td>\n    </tr>\n    <tr>\n      <th>Namibia</th>\n      <td>5</td>\n      <td>3</td>\n      <td>60.000000</td>\n    </tr>\n    <tr>\n      <th>Benin</th>\n      <td>5</td>\n      <td>3</td>\n      <td>60.000000</td>\n    </tr>\n    <tr>\n      <th>Haiti</th>\n      <td>5</td>\n      <td>3</td>\n      <td>60.000000</td>\n    </tr>\n    <tr>\n      <th>Congo, Republic of the...</th>\n      <td>7</td>\n      <td>4</td>\n      <td>57.142857</td>\n    </tr>\n    <tr>\n      <th>Oman</th>\n      <td>11</td>\n      <td>6</td>\n      <td>54.545455</td>\n    </tr>\n    <tr>\n      <th>Cuba</th>\n      <td>30</td>\n      <td>16</td>\n      <td>53.333333</td>\n    </tr>\n    <tr>\n      <th>Republic of Korea</th>\n      <td>39</td>\n      <td>20</td>\n      <td>51.282051</td>\n    </tr>\n    <tr>\n      <th>Seychelles</th>\n      <td>2</td>\n      <td>1</td>\n      <td>50.000000</td>\n    </tr>\n    <tr>\n      <th>Monaco</th>\n      <td>4</td>\n      <td>2</td>\n      <td>50.000000</td>\n    </tr>\n    <tr>\n      <th>Bhutan</th>\n      <td>2</td>\n      <td>1</td>\n      <td>50.000000</td>\n    </tr>\n    <tr>\n      <th>South Korea</th>\n      <td>160</td>\n      <td>80</td>\n      <td>50.000000</td>\n    </tr>\n    <tr>\n      <th>Sierra Leone</th>\n      <td>2</td>\n      <td>1</td>\n      <td>50.000000</td>\n    </tr>\n    <tr>\n      <th>San Marino</th>\n      <td>2</td>\n      <td>1</td>\n      <td>50.000000</td>\n    </tr>\n    <tr>\n      <th>Chile</th>\n      <td>206</td>\n      <td>102</td>\n      <td>49.514563</td>\n    </tr>\n    <tr>\n      <th>Finland</th>\n      <td>546</td>\n      <td>266</td>\n      <td>48.717949</td>\n    </tr>\n    <tr>\n      <th>Kenya</th>\n      <td>249</td>\n      <td>120</td>\n      <td>48.192771</td>\n    </tr>\n    <tr>\n      <th>United States</th>\n      <td>20949</td>\n      <td>10083</td>\n      <td>48.131176</td>\n    </tr>\n    <tr>\n      <th>Israel</th>\n      <td>952</td>\n      <td>457</td>\n      <td>48.004202</td>\n    </tr>\n    <tr>\n      <th>Ecuador</th>\n      <td>82</td>\n      <td>39</td>\n      <td>47.560976</td>\n    </tr>\n    <tr>\n      <th>Taiwan</th>\n      <td>187</td>\n      <td>88</td>\n      <td>47.058824</td>\n    </tr>\n    <tr>\n      <th>Mongolia</th>\n      <td>17</td>\n      <td>8</td>\n      <td>47.058824</td>\n    </tr>\n    <tr>\n      <th>Montenegro</th>\n      <td>17</td>\n      <td>8</td>\n      <td>47.058824</td>\n    </tr>\n    <tr>\n      <th>Switzerland</th>\n      <td>978</td>\n      <td>460</td>\n      <td>47.034765</td>\n    </tr>\n    <tr>\n      <th>United Republic of Tanzania</th>\n      <td>32</td>\n      <td>15</td>\n      <td>46.875000</td>\n    </tr>\n    <tr>\n      <th>Hong Kong (S.A.R.)</th>\n      <td>188</td>\n      <td>88</td>\n      <td>46.808511</td>\n    </tr>\n    <tr>\n      <th>Japan</th>\n      <td>391</td>\n      <td>182</td>\n      <td>46.547315</td>\n    </tr>\n    <tr>\n      <th>Maldives</th>\n      <td>13</td>\n      <td>6</td>\n      <td>46.153846</td>\n    </tr>\n    <tr>\n      <th>Canada</th>\n      <td>3395</td>\n      <td>1558</td>\n      <td>45.891016</td>\n    </tr>\n    <tr>\n      <th>Singapore</th>\n      <td>303</td>\n      <td>139</td>\n      <td>45.874587</td>\n    </tr>\n    <tr>\n      <th>New Zealand</th>\n      <td>524</td>\n      <td>236</td>\n      <td>45.038168</td>\n    </tr>\n    <tr>\n      <th>China</th>\n      <td>664</td>\n      <td>297</td>\n      <td>44.728916</td>\n    </tr>\n    <tr>\n      <th>Honduras</th>\n      <td>27</td>\n      <td>12</td>\n      <td>44.444444</td>\n    </tr>\n    <tr>\n      <th>France</th>\n      <td>2391</td>\n      <td>1054</td>\n      <td>44.081974</td>\n    </tr>\n    <tr>\n      <th>Iraq</th>\n      <td>39</td>\n      <td>17</td>\n      <td>43.589744</td>\n    </tr>\n    <tr>\n      <th>Thailand</th>\n      <td>214</td>\n      <td>92</td>\n      <td>42.990654</td>\n    </tr>\n    <tr>\n      <th>Democratic Republic of the Congo</th>\n      <td>7</td>\n      <td>3</td>\n      <td>42.857143</td>\n    </tr>\n    <tr>\n      <th>Nepal</th>\n      <td>237</td>\n      <td>101</td>\n      <td>42.616034</td>\n    </tr>\n    <tr>\n      <th>Estonia</th>\n      <td>195</td>\n      <td>82</td>\n      <td>42.051282</td>\n    </tr>\n    <tr>\n      <th>Russian Federation</th>\n      <td>1694</td>\n      <td>708</td>\n      <td>41.794569</td>\n    </tr>\n  </tbody>\n</table>\n</div>"
     },
     "metadata": {},
     "execution_count": 489
    }
   ],
   "source": [
    "python_df.sort_values(by='Percentage',ascending=False).head(50)"
   ]
  },
  {
   "cell_type": "code",
   "execution_count": 490,
   "metadata": {},
   "outputs": [
    {
     "output_type": "execute_result",
     "data": {
      "text/plain": "NumResponses      9061.000000\nNumKnowsPython    3105.000000\nPercentage          34.267741\nName: India, dtype: float64"
     },
     "metadata": {},
     "execution_count": 490
    }
   ],
   "source": [
    "python_df.loc['India']"
   ]
  },
  {
   "cell_type": "code",
   "execution_count": null,
   "metadata": {},
   "outputs": [],
   "source": []
  }
 ]
}