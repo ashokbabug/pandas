{
 "cells": [
  {
   "cell_type": "code",
   "execution_count": 1,
   "metadata": {},
   "outputs": [
    {
     "data": {
      "text/plain": [
       "'c:\\\\users\\\\asus\\\\django\\\\scripts\\\\python.exe'"
      ]
     },
     "execution_count": 1,
     "metadata": {},
     "output_type": "execute_result"
    }
   ],
   "source": [
    "import sys\n",
    "sys.executable"
   ]
  },
  {
   "cell_type": "code",
   "execution_count": 2,
   "metadata": {},
   "outputs": [
    {
     "name": "stdout",
     "output_type": "stream",
     "text": [
      "asgiref==3.2.7\n",
      "astroid==2.4.2\n",
      "autopep8==1.5.3\n",
      "backcall==0.2.0\n",
      "certifi==2020.6.20\n",
      "cffi==1.14.0\n",
      "colorama==0.4.3\n",
      "cryptography==3.0\n",
      "cycler==0.10.0\n",
      "decorator==4.4.2\n",
      "dj-database-url==0.5.0\n",
      "Django==3.0.7\n",
      "django-crispy-forms==1.9.1\n",
      "django-extensions==3.0.2\n",
      "django-heroku==0.3.1\n",
      "django-rest==0.8.6\n",
      "django-rest-knox==4.1.0\n",
      "djangorestframework==3.11.0\n",
      "gunicorn==20.0.4\n",
      "ipykernel==5.3.4\n",
      "ipython==7.18.1\n",
      "ipython-genutils==0.2.0\n",
      "isort==4.3.21\n",
      "jedi==0.17.2\n",
      "jupyter-client==6.1.7\n",
      "jupyter-core==4.6.3\n",
      "kiwisolver==1.2.0\n",
      "lazy-object-proxy==1.4.3\n",
      "matplotlib==3.3.2\n",
      "mccabe==0.6.1\n",
      "numpy==1.19.2\n",
      "parso==0.7.1\n",
      "pep8==1.7.1\n",
      "pickleshare==0.7.5\n",
      "Pillow==7.2.0\n",
      "prompt-toolkit==3.0.7\n",
      "psycopg2==2.8.5\n",
      "pycodestyle==2.6.0\n",
      "pycparser==2.20\n",
      "Pygments==2.7.0\n",
      "pylint==2.5.3\n",
      "pyparsing==2.4.7\n",
      "python-dateutil==2.8.1\n",
      "pytz==2020.1\n",
      "pywin32==228\n",
      "pyzmq==19.0.2\n",
      "six==1.15.0\n",
      "sqlparse==0.3.1\n",
      "toml==0.10.1\n",
      "tornado==6.0.4\n",
      "traitlets==5.0.4\n",
      "typed-ast==1.4.1\n",
      "wcwidth==0.2.5\n",
      "whitenoise==5.2.0\n",
      "wrapt==1.12.1\n"
     ]
    }
   ],
   "source": [
    "!pip freeze"
   ]
  },
  {
   "cell_type": "code",
   "execution_count": 3,
   "metadata": {},
   "outputs": [
    {
     "ename": "ModuleNotFoundError",
     "evalue": "No module named 'pandas'",
     "output_type": "error",
     "traceback": [
      "\u001b[1;31m---------------------------------------------------------------------------\u001b[0m",
      "\u001b[1;31mModuleNotFoundError\u001b[0m                       Traceback (most recent call last)",
      "\u001b[1;32m<ipython-input-3-38d4b0363d82>\u001b[0m in \u001b[0;36m<module>\u001b[1;34m\u001b[0m\n\u001b[1;32m----> 1\u001b[1;33m \u001b[1;32mimport\u001b[0m \u001b[0mpandas\u001b[0m\u001b[1;33m\u001b[0m\u001b[1;33m\u001b[0m\u001b[0m\n\u001b[0m",
      "\u001b[1;31mModuleNotFoundError\u001b[0m: No module named 'pandas'"
     ]
    }
   ],
   "source": [
    "import pandas"
   ]
  },
  {
   "cell_type": "code",
   "execution_count": null,
   "metadata": {},
   "outputs": [],
   "source": []
  }
 ],
 "metadata": {
  "kernelspec": {
   "display_name": "django",
   "language": "python",
   "name": "django"
  },
  "language_info": {
   "codemirror_mode": {
    "name": "ipython",
    "version": 3
   },
   "file_extension": ".py",
   "mimetype": "text/x-python",
   "name": "python",
   "nbconvert_exporter": "python",
   "pygments_lexer": "ipython3",
   "version": "3.7.4"
  }
 },
 "nbformat": 4,
 "nbformat_minor": 4
}
