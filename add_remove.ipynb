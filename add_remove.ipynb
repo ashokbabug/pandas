{
 "metadata": {
  "language_info": {
   "codemirror_mode": {
    "name": "ipython",
    "version": 3
   },
   "file_extension": ".py",
   "mimetype": "text/x-python",
   "name": "python",
   "nbconvert_exporter": "python",
   "pygments_lexer": "ipython3",
   "version": "3.8.5-final"
  },
  "orig_nbformat": 2,
  "kernelspec": {
   "name": "Python 3.8.5 64-bit",
   "display_name": "Python 3.8.5 64-bit",
   "metadata": {
    "interpreter": {
     "hash": "46971d6258fae1e211635d8bf7f60d4d01846c4e42537e37b5cbd719f8de335b"
    }
   }
  }
 },
 "nbformat": 4,
 "nbformat_minor": 2,
 "cells": [
  {
   "cell_type": "code",
   "execution_count": 1,
   "metadata": {},
   "outputs": [],
   "source": [
    "people = {\n",
    "    'first':['ashok','dattu','vinay'],\n",
    "    'last':['babu','naik','babu'],\n",
    "    'email':['gashokbabu999@gamil.com','gdattunaik@gmail.com','mvinaybabu@gmail.com']\n",
    "}"
   ]
  },
  {
   "cell_type": "code",
   "execution_count": 2,
   "metadata": {},
   "outputs": [
    {
     "output_type": "display_data",
     "data": {
      "text/plain": "<IPython.core.display.Javascript object>",
      "application/javascript": "\n        if (window._pyforest_update_imports_cell) { window._pyforest_update_imports_cell('import pandas as pd'); }\n    "
     },
     "metadata": {}
    }
   ],
   "source": [
    "df = pd.DataFrame(people)"
   ]
  },
  {
   "cell_type": "code",
   "execution_count": 3,
   "metadata": {},
   "outputs": [
    {
     "output_type": "execute_result",
     "data": {
      "text/plain": "   first  last                    email\n0  ashok  babu  gashokbabu999@gamil.com\n1  dattu  naik     gdattunaik@gmail.com\n2  vinay  babu     mvinaybabu@gmail.com",
      "text/html": "<div>\n<style scoped>\n    .dataframe tbody tr th:only-of-type {\n        vertical-align: middle;\n    }\n\n    .dataframe tbody tr th {\n        vertical-align: top;\n    }\n\n    .dataframe thead th {\n        text-align: right;\n    }\n</style>\n<table border=\"1\" class=\"dataframe\">\n  <thead>\n    <tr style=\"text-align: right;\">\n      <th></th>\n      <th>first</th>\n      <th>last</th>\n      <th>email</th>\n    </tr>\n  </thead>\n  <tbody>\n    <tr>\n      <th>0</th>\n      <td>ashok</td>\n      <td>babu</td>\n      <td>gashokbabu999@gamil.com</td>\n    </tr>\n    <tr>\n      <th>1</th>\n      <td>dattu</td>\n      <td>naik</td>\n      <td>gdattunaik@gmail.com</td>\n    </tr>\n    <tr>\n      <th>2</th>\n      <td>vinay</td>\n      <td>babu</td>\n      <td>mvinaybabu@gmail.com</td>\n    </tr>\n  </tbody>\n</table>\n</div>"
     },
     "metadata": {},
     "execution_count": 3
    }
   ],
   "source": [
    "df"
   ]
  },
  {
   "cell_type": "code",
   "execution_count": 4,
   "metadata": {},
   "outputs": [
    {
     "output_type": "execute_result",
     "data": {
      "text/plain": "0    ashok babu\n1    dattu naik\n2    vinay babu\ndtype: object"
     },
     "metadata": {},
     "execution_count": 4
    }
   ],
   "source": [
    "df['first'] + ' ' + df['last']"
   ]
  },
  {
   "cell_type": "code",
   "execution_count": 5,
   "metadata": {},
   "outputs": [],
   "source": [
    "# adding column\n",
    "df['full_name'] = df['first'] + ' ' + df['last']\n",
    "#do not use . notation here if use . it actually add an attribute to the Dataframe object use [] only"
   ]
  },
  {
   "cell_type": "code",
   "execution_count": 6,
   "metadata": {},
   "outputs": [
    {
     "output_type": "execute_result",
     "data": {
      "text/plain": "   first  last                    email   full_name\n0  ashok  babu  gashokbabu999@gamil.com  ashok babu\n1  dattu  naik     gdattunaik@gmail.com  dattu naik\n2  vinay  babu     mvinaybabu@gmail.com  vinay babu",
      "text/html": "<div>\n<style scoped>\n    .dataframe tbody tr th:only-of-type {\n        vertical-align: middle;\n    }\n\n    .dataframe tbody tr th {\n        vertical-align: top;\n    }\n\n    .dataframe thead th {\n        text-align: right;\n    }\n</style>\n<table border=\"1\" class=\"dataframe\">\n  <thead>\n    <tr style=\"text-align: right;\">\n      <th></th>\n      <th>first</th>\n      <th>last</th>\n      <th>email</th>\n      <th>full_name</th>\n    </tr>\n  </thead>\n  <tbody>\n    <tr>\n      <th>0</th>\n      <td>ashok</td>\n      <td>babu</td>\n      <td>gashokbabu999@gamil.com</td>\n      <td>ashok babu</td>\n    </tr>\n    <tr>\n      <th>1</th>\n      <td>dattu</td>\n      <td>naik</td>\n      <td>gdattunaik@gmail.com</td>\n      <td>dattu naik</td>\n    </tr>\n    <tr>\n      <th>2</th>\n      <td>vinay</td>\n      <td>babu</td>\n      <td>mvinaybabu@gmail.com</td>\n      <td>vinay babu</td>\n    </tr>\n  </tbody>\n</table>\n</div>"
     },
     "metadata": {},
     "execution_count": 6
    }
   ],
   "source": [
    "df"
   ]
  },
  {
   "cell_type": "code",
   "execution_count": 7,
   "metadata": {},
   "outputs": [
    {
     "output_type": "execute_result",
     "data": {
      "text/plain": "   first  last                    email\n0  ashok  babu  gashokbabu999@gamil.com\n1  dattu  naik     gdattunaik@gmail.com\n2  vinay  babu     mvinaybabu@gmail.com",
      "text/html": "<div>\n<style scoped>\n    .dataframe tbody tr th:only-of-type {\n        vertical-align: middle;\n    }\n\n    .dataframe tbody tr th {\n        vertical-align: top;\n    }\n\n    .dataframe thead th {\n        text-align: right;\n    }\n</style>\n<table border=\"1\" class=\"dataframe\">\n  <thead>\n    <tr style=\"text-align: right;\">\n      <th></th>\n      <th>first</th>\n      <th>last</th>\n      <th>email</th>\n    </tr>\n  </thead>\n  <tbody>\n    <tr>\n      <th>0</th>\n      <td>ashok</td>\n      <td>babu</td>\n      <td>gashokbabu999@gamil.com</td>\n    </tr>\n    <tr>\n      <th>1</th>\n      <td>dattu</td>\n      <td>naik</td>\n      <td>gdattunaik@gmail.com</td>\n    </tr>\n    <tr>\n      <th>2</th>\n      <td>vinay</td>\n      <td>babu</td>\n      <td>mvinaybabu@gmail.com</td>\n    </tr>\n  </tbody>\n</table>\n</div>"
     },
     "metadata": {},
     "execution_count": 7
    }
   ],
   "source": [
    "df.drop(columns=['full_name'])   #it donot apply the changes to the dataframe if you donot use implace=True"
   ]
  },
  {
   "cell_type": "code",
   "execution_count": 8,
   "metadata": {},
   "outputs": [
    {
     "output_type": "execute_result",
     "data": {
      "text/plain": "   first  last                    email   full_name\n0  ashok  babu  gashokbabu999@gamil.com  ashok babu\n1  dattu  naik     gdattunaik@gmail.com  dattu naik\n2  vinay  babu     mvinaybabu@gmail.com  vinay babu",
      "text/html": "<div>\n<style scoped>\n    .dataframe tbody tr th:only-of-type {\n        vertical-align: middle;\n    }\n\n    .dataframe tbody tr th {\n        vertical-align: top;\n    }\n\n    .dataframe thead th {\n        text-align: right;\n    }\n</style>\n<table border=\"1\" class=\"dataframe\">\n  <thead>\n    <tr style=\"text-align: right;\">\n      <th></th>\n      <th>first</th>\n      <th>last</th>\n      <th>email</th>\n      <th>full_name</th>\n    </tr>\n  </thead>\n  <tbody>\n    <tr>\n      <th>0</th>\n      <td>ashok</td>\n      <td>babu</td>\n      <td>gashokbabu999@gamil.com</td>\n      <td>ashok babu</td>\n    </tr>\n    <tr>\n      <th>1</th>\n      <td>dattu</td>\n      <td>naik</td>\n      <td>gdattunaik@gmail.com</td>\n      <td>dattu naik</td>\n    </tr>\n    <tr>\n      <th>2</th>\n      <td>vinay</td>\n      <td>babu</td>\n      <td>mvinaybabu@gmail.com</td>\n      <td>vinay babu</td>\n    </tr>\n  </tbody>\n</table>\n</div>"
     },
     "metadata": {},
     "execution_count": 8
    }
   ],
   "source": [
    "df"
   ]
  },
  {
   "cell_type": "code",
   "execution_count": 9,
   "metadata": {},
   "outputs": [],
   "source": [
    "df.drop(columns=['full_name'],inplace=True)"
   ]
  },
  {
   "cell_type": "code",
   "execution_count": 10,
   "metadata": {},
   "outputs": [
    {
     "output_type": "execute_result",
     "data": {
      "text/plain": "   first  last                    email\n0  ashok  babu  gashokbabu999@gamil.com\n1  dattu  naik     gdattunaik@gmail.com\n2  vinay  babu     mvinaybabu@gmail.com",
      "text/html": "<div>\n<style scoped>\n    .dataframe tbody tr th:only-of-type {\n        vertical-align: middle;\n    }\n\n    .dataframe tbody tr th {\n        vertical-align: top;\n    }\n\n    .dataframe thead th {\n        text-align: right;\n    }\n</style>\n<table border=\"1\" class=\"dataframe\">\n  <thead>\n    <tr style=\"text-align: right;\">\n      <th></th>\n      <th>first</th>\n      <th>last</th>\n      <th>email</th>\n    </tr>\n  </thead>\n  <tbody>\n    <tr>\n      <th>0</th>\n      <td>ashok</td>\n      <td>babu</td>\n      <td>gashokbabu999@gamil.com</td>\n    </tr>\n    <tr>\n      <th>1</th>\n      <td>dattu</td>\n      <td>naik</td>\n      <td>gdattunaik@gmail.com</td>\n    </tr>\n    <tr>\n      <th>2</th>\n      <td>vinay</td>\n      <td>babu</td>\n      <td>mvinaybabu@gmail.com</td>\n    </tr>\n  </tbody>\n</table>\n</div>"
     },
     "metadata": {},
     "execution_count": 10
    }
   ],
   "source": [
    "df"
   ]
  },
  {
   "cell_type": "code",
   "execution_count": 11,
   "metadata": {},
   "outputs": [
    {
     "output_type": "execute_result",
     "data": {
      "text/plain": "0    [gashokbabu999, gamil.com]\n1       [gdattunaik, gmail.com]\n2       [mvinaybabu, gmail.com]\nName: email, dtype: object"
     },
     "metadata": {},
     "execution_count": 11
    }
   ],
   "source": [
    "df['email'].str.split('@')"
   ]
  },
  {
   "cell_type": "code",
   "execution_count": 12,
   "metadata": {},
   "outputs": [
    {
     "output_type": "execute_result",
     "data": {
      "text/plain": "               0          1\n0  gashokbabu999  gamil.com\n1     gdattunaik  gmail.com\n2     mvinaybabu  gmail.com",
      "text/html": "<div>\n<style scoped>\n    .dataframe tbody tr th:only-of-type {\n        vertical-align: middle;\n    }\n\n    .dataframe tbody tr th {\n        vertical-align: top;\n    }\n\n    .dataframe thead th {\n        text-align: right;\n    }\n</style>\n<table border=\"1\" class=\"dataframe\">\n  <thead>\n    <tr style=\"text-align: right;\">\n      <th></th>\n      <th>0</th>\n      <th>1</th>\n    </tr>\n  </thead>\n  <tbody>\n    <tr>\n      <th>0</th>\n      <td>gashokbabu999</td>\n      <td>gamil.com</td>\n    </tr>\n    <tr>\n      <th>1</th>\n      <td>gdattunaik</td>\n      <td>gmail.com</td>\n    </tr>\n    <tr>\n      <th>2</th>\n      <td>mvinaybabu</td>\n      <td>gmail.com</td>\n    </tr>\n  </tbody>\n</table>\n</div>"
     },
     "metadata": {},
     "execution_count": 12
    }
   ],
   "source": [
    "df['email'].str.split('@',expand=True)"
   ]
  },
  {
   "cell_type": "code",
   "execution_count": 13,
   "metadata": {},
   "outputs": [],
   "source": [
    "df[['value','domain']] = df['email'].str.split('@',expand=True)"
   ]
  },
  {
   "cell_type": "code",
   "execution_count": 14,
   "metadata": {},
   "outputs": [
    {
     "output_type": "execute_result",
     "data": {
      "text/plain": "   first  last                    email          value     domain\n0  ashok  babu  gashokbabu999@gamil.com  gashokbabu999  gamil.com\n1  dattu  naik     gdattunaik@gmail.com     gdattunaik  gmail.com\n2  vinay  babu     mvinaybabu@gmail.com     mvinaybabu  gmail.com",
      "text/html": "<div>\n<style scoped>\n    .dataframe tbody tr th:only-of-type {\n        vertical-align: middle;\n    }\n\n    .dataframe tbody tr th {\n        vertical-align: top;\n    }\n\n    .dataframe thead th {\n        text-align: right;\n    }\n</style>\n<table border=\"1\" class=\"dataframe\">\n  <thead>\n    <tr style=\"text-align: right;\">\n      <th></th>\n      <th>first</th>\n      <th>last</th>\n      <th>email</th>\n      <th>value</th>\n      <th>domain</th>\n    </tr>\n  </thead>\n  <tbody>\n    <tr>\n      <th>0</th>\n      <td>ashok</td>\n      <td>babu</td>\n      <td>gashokbabu999@gamil.com</td>\n      <td>gashokbabu999</td>\n      <td>gamil.com</td>\n    </tr>\n    <tr>\n      <th>1</th>\n      <td>dattu</td>\n      <td>naik</td>\n      <td>gdattunaik@gmail.com</td>\n      <td>gdattunaik</td>\n      <td>gmail.com</td>\n    </tr>\n    <tr>\n      <th>2</th>\n      <td>vinay</td>\n      <td>babu</td>\n      <td>mvinaybabu@gmail.com</td>\n      <td>mvinaybabu</td>\n      <td>gmail.com</td>\n    </tr>\n  </tbody>\n</table>\n</div>"
     },
     "metadata": {},
     "execution_count": 14
    }
   ],
   "source": [
    "df"
   ]
  },
  {
   "source": [
    "# Adding Rows and Removing Rows"
   ],
   "cell_type": "markdown",
   "metadata": {}
  },
  {
   "cell_type": "code",
   "execution_count": 15,
   "metadata": {},
   "outputs": [
    {
     "output_type": "error",
     "ename": "TypeError",
     "evalue": "Can only append a dict if ignore_index=True",
     "traceback": [
      "\u001b[1;31m---------------------------------------------------------------------------\u001b[0m",
      "\u001b[1;31mTypeError\u001b[0m                                 Traceback (most recent call last)",
      "\u001b[1;32m<ipython-input-15-f8e40a92ceb2>\u001b[0m in \u001b[0;36m<module>\u001b[1;34m\u001b[0m\n\u001b[1;32m----> 1\u001b[1;33m \u001b[0mdf\u001b[0m\u001b[1;33m.\u001b[0m\u001b[0mappend\u001b[0m\u001b[1;33m(\u001b[0m\u001b[1;33m{\u001b[0m\u001b[1;34m'first'\u001b[0m\u001b[1;33m:\u001b[0m\u001b[1;34m'subhash'\u001b[0m\u001b[1;33m}\u001b[0m\u001b[1;33m)\u001b[0m\u001b[1;33m\u001b[0m\u001b[1;33m\u001b[0m\u001b[0m\n\u001b[0m",
      "\u001b[1;32m~\\AppData\\Local\\Programs\\Python\\Python38\\lib\\site-packages\\pandas\\core\\frame.py\u001b[0m in \u001b[0;36mappend\u001b[1;34m(self, other, ignore_index, verify_integrity, sort)\u001b[0m\n\u001b[0;32m   7704\u001b[0m             \u001b[1;32mif\u001b[0m \u001b[0misinstance\u001b[0m\u001b[1;33m(\u001b[0m\u001b[0mother\u001b[0m\u001b[1;33m,\u001b[0m \u001b[0mdict\u001b[0m\u001b[1;33m)\u001b[0m\u001b[1;33m:\u001b[0m\u001b[1;33m\u001b[0m\u001b[1;33m\u001b[0m\u001b[0m\n\u001b[0;32m   7705\u001b[0m                 \u001b[1;32mif\u001b[0m \u001b[1;32mnot\u001b[0m \u001b[0mignore_index\u001b[0m\u001b[1;33m:\u001b[0m\u001b[1;33m\u001b[0m\u001b[1;33m\u001b[0m\u001b[0m\n\u001b[1;32m-> 7706\u001b[1;33m                     \u001b[1;32mraise\u001b[0m \u001b[0mTypeError\u001b[0m\u001b[1;33m(\u001b[0m\u001b[1;34m\"Can only append a dict if ignore_index=True\"\u001b[0m\u001b[1;33m)\u001b[0m\u001b[1;33m\u001b[0m\u001b[1;33m\u001b[0m\u001b[0m\n\u001b[0m\u001b[0;32m   7707\u001b[0m                 \u001b[0mother\u001b[0m \u001b[1;33m=\u001b[0m \u001b[0mSeries\u001b[0m\u001b[1;33m(\u001b[0m\u001b[0mother\u001b[0m\u001b[1;33m)\u001b[0m\u001b[1;33m\u001b[0m\u001b[1;33m\u001b[0m\u001b[0m\n\u001b[0;32m   7708\u001b[0m             \u001b[1;32mif\u001b[0m \u001b[0mother\u001b[0m\u001b[1;33m.\u001b[0m\u001b[0mname\u001b[0m \u001b[1;32mis\u001b[0m \u001b[1;32mNone\u001b[0m \u001b[1;32mand\u001b[0m \u001b[1;32mnot\u001b[0m \u001b[0mignore_index\u001b[0m\u001b[1;33m:\u001b[0m\u001b[1;33m\u001b[0m\u001b[1;33m\u001b[0m\u001b[0m\n",
      "\u001b[1;31mTypeError\u001b[0m: Can only append a dict if ignore_index=True"
     ]
    }
   ],
   "source": [
    "df.append({'first':'subhash'})"
   ]
  },
  {
   "cell_type": "code",
   "execution_count": 16,
   "metadata": {},
   "outputs": [
    {
     "output_type": "execute_result",
     "data": {
      "text/plain": "     first  last                    email          value     domain\n0    ashok  babu  gashokbabu999@gamil.com  gashokbabu999  gamil.com\n1    dattu  naik     gdattunaik@gmail.com     gdattunaik  gmail.com\n2    vinay  babu     mvinaybabu@gmail.com     mvinaybabu  gmail.com\n3  subhash   NaN                      NaN            NaN        NaN",
      "text/html": "<div>\n<style scoped>\n    .dataframe tbody tr th:only-of-type {\n        vertical-align: middle;\n    }\n\n    .dataframe tbody tr th {\n        vertical-align: top;\n    }\n\n    .dataframe thead th {\n        text-align: right;\n    }\n</style>\n<table border=\"1\" class=\"dataframe\">\n  <thead>\n    <tr style=\"text-align: right;\">\n      <th></th>\n      <th>first</th>\n      <th>last</th>\n      <th>email</th>\n      <th>value</th>\n      <th>domain</th>\n    </tr>\n  </thead>\n  <tbody>\n    <tr>\n      <th>0</th>\n      <td>ashok</td>\n      <td>babu</td>\n      <td>gashokbabu999@gamil.com</td>\n      <td>gashokbabu999</td>\n      <td>gamil.com</td>\n    </tr>\n    <tr>\n      <th>1</th>\n      <td>dattu</td>\n      <td>naik</td>\n      <td>gdattunaik@gmail.com</td>\n      <td>gdattunaik</td>\n      <td>gmail.com</td>\n    </tr>\n    <tr>\n      <th>2</th>\n      <td>vinay</td>\n      <td>babu</td>\n      <td>mvinaybabu@gmail.com</td>\n      <td>mvinaybabu</td>\n      <td>gmail.com</td>\n    </tr>\n    <tr>\n      <th>3</th>\n      <td>subhash</td>\n      <td>NaN</td>\n      <td>NaN</td>\n      <td>NaN</td>\n      <td>NaN</td>\n    </tr>\n  </tbody>\n</table>\n</div>"
     },
     "metadata": {},
     "execution_count": 16
    }
   ],
   "source": [
    "df.append({'first':'subhash'},ignore_index=True)"
   ]
  },
  {
   "cell_type": "code",
   "execution_count": 17,
   "metadata": {},
   "outputs": [
    {
     "output_type": "display_data",
     "data": {
      "text/plain": "<IPython.core.display.Javascript object>",
      "application/javascript": "\n        if (window._pyforest_update_imports_cell) { window._pyforest_update_imports_cell('import pandas as pd'); }\n    "
     },
     "metadata": {}
    }
   ],
   "source": [
    "people2 = {\n",
    "    'first':['ram','syam',],\n",
    "    'last':['babu','naik',],\n",
    "    'email':['rambabu@gamil.com','syamnaik@gmail.com']\n",
    "}\n",
    "df2 = pd.DataFrame(people2)"
   ]
  },
  {
   "cell_type": "code",
   "execution_count": 18,
   "metadata": {},
   "outputs": [
    {
     "output_type": "execute_result",
     "data": {
      "text/plain": "   first  last                    email          value     domain\n0  ashok  babu  gashokbabu999@gamil.com  gashokbabu999  gamil.com\n1  dattu  naik     gdattunaik@gmail.com     gdattunaik  gmail.com\n2  vinay  babu     mvinaybabu@gmail.com     mvinaybabu  gmail.com\n3    ram  babu        rambabu@gamil.com            NaN        NaN\n4   syam  naik       syamnaik@gmail.com            NaN        NaN",
      "text/html": "<div>\n<style scoped>\n    .dataframe tbody tr th:only-of-type {\n        vertical-align: middle;\n    }\n\n    .dataframe tbody tr th {\n        vertical-align: top;\n    }\n\n    .dataframe thead th {\n        text-align: right;\n    }\n</style>\n<table border=\"1\" class=\"dataframe\">\n  <thead>\n    <tr style=\"text-align: right;\">\n      <th></th>\n      <th>first</th>\n      <th>last</th>\n      <th>email</th>\n      <th>value</th>\n      <th>domain</th>\n    </tr>\n  </thead>\n  <tbody>\n    <tr>\n      <th>0</th>\n      <td>ashok</td>\n      <td>babu</td>\n      <td>gashokbabu999@gamil.com</td>\n      <td>gashokbabu999</td>\n      <td>gamil.com</td>\n    </tr>\n    <tr>\n      <th>1</th>\n      <td>dattu</td>\n      <td>naik</td>\n      <td>gdattunaik@gmail.com</td>\n      <td>gdattunaik</td>\n      <td>gmail.com</td>\n    </tr>\n    <tr>\n      <th>2</th>\n      <td>vinay</td>\n      <td>babu</td>\n      <td>mvinaybabu@gmail.com</td>\n      <td>mvinaybabu</td>\n      <td>gmail.com</td>\n    </tr>\n    <tr>\n      <th>3</th>\n      <td>ram</td>\n      <td>babu</td>\n      <td>rambabu@gamil.com</td>\n      <td>NaN</td>\n      <td>NaN</td>\n    </tr>\n    <tr>\n      <th>4</th>\n      <td>syam</td>\n      <td>naik</td>\n      <td>syamnaik@gmail.com</td>\n      <td>NaN</td>\n      <td>NaN</td>\n    </tr>\n  </tbody>\n</table>\n</div>"
     },
     "metadata": {},
     "execution_count": 18
    }
   ],
   "source": [
    "df.append(df2,ignore_index=True)"
   ]
  },
  {
   "cell_type": "code",
   "execution_count": 20,
   "metadata": {
    "tags": []
   },
   "outputs": [],
   "source": [
    "df = df.append(df2,ignore_index=True)"
   ]
  },
  {
   "cell_type": "code",
   "execution_count": 22,
   "metadata": {},
   "outputs": [],
   "source": [
    "#removing rows\n",
    "df.drop(index=4,inplace=True)"
   ]
  },
  {
   "cell_type": "code",
   "execution_count": 23,
   "metadata": {},
   "outputs": [
    {
     "output_type": "execute_result",
     "data": {
      "text/plain": "   first  last                    email          value     domain\n0  ashok  babu  gashokbabu999@gamil.com  gashokbabu999  gamil.com\n2  vinay  babu     mvinaybabu@gmail.com     mvinaybabu  gmail.com\n3    ram  babu        rambabu@gamil.com            NaN        NaN",
      "text/html": "<div>\n<style scoped>\n    .dataframe tbody tr th:only-of-type {\n        vertical-align: middle;\n    }\n\n    .dataframe tbody tr th {\n        vertical-align: top;\n    }\n\n    .dataframe thead th {\n        text-align: right;\n    }\n</style>\n<table border=\"1\" class=\"dataframe\">\n  <thead>\n    <tr style=\"text-align: right;\">\n      <th></th>\n      <th>first</th>\n      <th>last</th>\n      <th>email</th>\n      <th>value</th>\n      <th>domain</th>\n    </tr>\n  </thead>\n  <tbody>\n    <tr>\n      <th>0</th>\n      <td>ashok</td>\n      <td>babu</td>\n      <td>gashokbabu999@gamil.com</td>\n      <td>gashokbabu999</td>\n      <td>gamil.com</td>\n    </tr>\n    <tr>\n      <th>2</th>\n      <td>vinay</td>\n      <td>babu</td>\n      <td>mvinaybabu@gmail.com</td>\n      <td>mvinaybabu</td>\n      <td>gmail.com</td>\n    </tr>\n    <tr>\n      <th>3</th>\n      <td>ram</td>\n      <td>babu</td>\n      <td>rambabu@gamil.com</td>\n      <td>NaN</td>\n      <td>NaN</td>\n    </tr>\n  </tbody>\n</table>\n</div>"
     },
     "metadata": {},
     "execution_count": 23
    }
   ],
   "source": [
    "df.drop(index=df[df['last']=='naik'].index)"
   ]
  },
  {
   "cell_type": "code",
   "execution_count": 24,
   "metadata": {},
   "outputs": [
    {
     "output_type": "execute_result",
     "data": {
      "text/plain": "   first  last                    email          value     domain\n0  ashok  babu  gashokbabu999@gamil.com  gashokbabu999  gamil.com\n2  vinay  babu     mvinaybabu@gmail.com     mvinaybabu  gmail.com\n3    ram  babu        rambabu@gamil.com            NaN        NaN",
      "text/html": "<div>\n<style scoped>\n    .dataframe tbody tr th:only-of-type {\n        vertical-align: middle;\n    }\n\n    .dataframe tbody tr th {\n        vertical-align: top;\n    }\n\n    .dataframe thead th {\n        text-align: right;\n    }\n</style>\n<table border=\"1\" class=\"dataframe\">\n  <thead>\n    <tr style=\"text-align: right;\">\n      <th></th>\n      <th>first</th>\n      <th>last</th>\n      <th>email</th>\n      <th>value</th>\n      <th>domain</th>\n    </tr>\n  </thead>\n  <tbody>\n    <tr>\n      <th>0</th>\n      <td>ashok</td>\n      <td>babu</td>\n      <td>gashokbabu999@gamil.com</td>\n      <td>gashokbabu999</td>\n      <td>gamil.com</td>\n    </tr>\n    <tr>\n      <th>2</th>\n      <td>vinay</td>\n      <td>babu</td>\n      <td>mvinaybabu@gmail.com</td>\n      <td>mvinaybabu</td>\n      <td>gmail.com</td>\n    </tr>\n    <tr>\n      <th>3</th>\n      <td>ram</td>\n      <td>babu</td>\n      <td>rambabu@gamil.com</td>\n      <td>NaN</td>\n      <td>NaN</td>\n    </tr>\n  </tbody>\n</table>\n</div>"
     },
     "metadata": {},
     "execution_count": 24
    }
   ],
   "source": [
    "filt = df['last']=='naik'\n",
    "df.drop(index=df[filt].index)\n",
    "#it executed perfectly after aplying 2 times because we don not apply the changes by doing inplace = True "
   ]
  },
  {
   "cell_type": "code",
   "execution_count": null,
   "metadata": {},
   "outputs": [],
   "source": []
  }
 ]
}