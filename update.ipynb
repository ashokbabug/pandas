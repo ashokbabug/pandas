{
 "metadata": {
  "language_info": {
   "codemirror_mode": {
    "name": "ipython",
    "version": 3
   },
   "file_extension": ".py",
   "mimetype": "text/x-python",
   "name": "python",
   "nbconvert_exporter": "python",
   "pygments_lexer": "ipython3",
   "version": "3.8.5-final"
  },
  "orig_nbformat": 2,
  "kernelspec": {
   "name": "python_defaultSpec_1600524152976",
   "display_name": "Python 3.8.5 64-bit"
  }
 },
 "nbformat": 4,
 "nbformat_minor": 2,
 "cells": [
  {
   "cell_type": "code",
   "execution_count": 110,
   "metadata": {},
   "outputs": [],
   "source": [
    "people = {\n",
    "    'first':['ashok','dattu','vinay'],\n",
    "    'last':['babu','naik','babu'],\n",
    "    'email':['gashokbabu999@gamil.com','gdattunaik@gmail.com','mvinaybabu@gmail.com']\n",
    "}"
   ]
  },
  {
   "cell_type": "code",
   "execution_count": 111,
   "metadata": {},
   "outputs": [],
   "source": [
    "import pyforest"
   ]
  },
  {
   "cell_type": "code",
   "execution_count": 112,
   "metadata": {},
   "outputs": [
    {
     "output_type": "display_data",
     "data": {
      "text/plain": "<IPython.core.display.Javascript object>",
      "application/javascript": "\n        if (window._pyforest_update_imports_cell) { window._pyforest_update_imports_cell('import numpy as np\\nimport pandas as pd'); }\n    "
     },
     "metadata": {}
    }
   ],
   "source": [
    "df = pd.DataFrame(people)"
   ]
  },
  {
   "cell_type": "code",
   "execution_count": 113,
   "metadata": {},
   "outputs": [
    {
     "output_type": "execute_result",
     "data": {
      "text/plain": "   first  last                    email\n0  ashok  babu  gashokbabu999@gamil.com\n1  dattu  naik     gdattunaik@gmail.com\n2  vinay  babu     mvinaybabu@gmail.com",
      "text/html": "<div>\n<style scoped>\n    .dataframe tbody tr th:only-of-type {\n        vertical-align: middle;\n    }\n\n    .dataframe tbody tr th {\n        vertical-align: top;\n    }\n\n    .dataframe thead th {\n        text-align: right;\n    }\n</style>\n<table border=\"1\" class=\"dataframe\">\n  <thead>\n    <tr style=\"text-align: right;\">\n      <th></th>\n      <th>first</th>\n      <th>last</th>\n      <th>email</th>\n    </tr>\n  </thead>\n  <tbody>\n    <tr>\n      <th>0</th>\n      <td>ashok</td>\n      <td>babu</td>\n      <td>gashokbabu999@gamil.com</td>\n    </tr>\n    <tr>\n      <th>1</th>\n      <td>dattu</td>\n      <td>naik</td>\n      <td>gdattunaik@gmail.com</td>\n    </tr>\n    <tr>\n      <th>2</th>\n      <td>vinay</td>\n      <td>babu</td>\n      <td>mvinaybabu@gmail.com</td>\n    </tr>\n  </tbody>\n</table>\n</div>"
     },
     "metadata": {},
     "execution_count": 113
    }
   ],
   "source": [
    "df"
   ]
  },
  {
   "cell_type": "code",
   "execution_count": 114,
   "metadata": {},
   "outputs": [
    {
     "output_type": "execute_result",
     "data": {
      "text/plain": "first    object\nlast     object\nemail    object\ndtype: object"
     },
     "metadata": {},
     "execution_count": 114
    }
   ],
   "source": [
    "df.dtypes"
   ]
  },
  {
   "cell_type": "code",
   "execution_count": 115,
   "metadata": {},
   "outputs": [
    {
     "output_type": "display_data",
     "data": {
      "text/plain": "<IPython.core.display.Javascript object>",
      "application/javascript": "\n        if (window._pyforest_update_imports_cell) { window._pyforest_update_imports_cell('import numpy as np\\nimport pandas as pd'); }\n    "
     },
     "metadata": {}
    },
    {
     "output_type": "execute_result",
     "data": {
      "text/plain": "float"
     },
     "metadata": {},
     "execution_count": 115
    }
   ],
   "source": [
    "type(np.nan)"
   ]
  },
  {
   "cell_type": "code",
   "execution_count": 116,
   "metadata": {},
   "outputs": [
    {
     "output_type": "execute_result",
     "data": {
      "text/plain": "Index(['first', 'last', 'email'], dtype='object')"
     },
     "metadata": {},
     "execution_count": 116
    }
   ],
   "source": [
    "df.columns"
   ]
  },
  {
   "cell_type": "code",
   "execution_count": 117,
   "metadata": {},
   "outputs": [],
   "source": [
    "df.columns = ['first_name','last_name','email']"
   ]
  },
  {
   "cell_type": "code",
   "execution_count": 118,
   "metadata": {},
   "outputs": [
    {
     "output_type": "execute_result",
     "data": {
      "text/plain": "  FIRST_NAME LAST_NAME                    EMAIL\n0      ashok      babu  gashokbabu999@gamil.com\n1      dattu      naik     gdattunaik@gmail.com\n2      vinay      babu     mvinaybabu@gmail.com",
      "text/html": "<div>\n<style scoped>\n    .dataframe tbody tr th:only-of-type {\n        vertical-align: middle;\n    }\n\n    .dataframe tbody tr th {\n        vertical-align: top;\n    }\n\n    .dataframe thead th {\n        text-align: right;\n    }\n</style>\n<table border=\"1\" class=\"dataframe\">\n  <thead>\n    <tr style=\"text-align: right;\">\n      <th></th>\n      <th>FIRST_NAME</th>\n      <th>LAST_NAME</th>\n      <th>EMAIL</th>\n    </tr>\n  </thead>\n  <tbody>\n    <tr>\n      <th>0</th>\n      <td>ashok</td>\n      <td>babu</td>\n      <td>gashokbabu999@gamil.com</td>\n    </tr>\n    <tr>\n      <th>1</th>\n      <td>dattu</td>\n      <td>naik</td>\n      <td>gdattunaik@gmail.com</td>\n    </tr>\n    <tr>\n      <th>2</th>\n      <td>vinay</td>\n      <td>babu</td>\n      <td>mvinaybabu@gmail.com</td>\n    </tr>\n  </tbody>\n</table>\n</div>"
     },
     "metadata": {},
     "execution_count": 118
    }
   ],
   "source": [
    "df.columns = [x.upper() for x in df.columns]\n",
    "df.head()"
   ]
  },
  {
   "cell_type": "code",
   "execution_count": 119,
   "metadata": {},
   "outputs": [
    {
     "output_type": "execute_result",
     "data": {
      "text/plain": "   first  last                    email\n0  ashok  babu  gashokbabu999@gamil.com\n1  dattu  naik     gdattunaik@gmail.com\n2  vinay  babu     mvinaybabu@gmail.com",
      "text/html": "<div>\n<style scoped>\n    .dataframe tbody tr th:only-of-type {\n        vertical-align: middle;\n    }\n\n    .dataframe tbody tr th {\n        vertical-align: top;\n    }\n\n    .dataframe thead th {\n        text-align: right;\n    }\n</style>\n<table border=\"1\" class=\"dataframe\">\n  <thead>\n    <tr style=\"text-align: right;\">\n      <th></th>\n      <th>first</th>\n      <th>last</th>\n      <th>email</th>\n    </tr>\n  </thead>\n  <tbody>\n    <tr>\n      <th>0</th>\n      <td>ashok</td>\n      <td>babu</td>\n      <td>gashokbabu999@gamil.com</td>\n    </tr>\n    <tr>\n      <th>1</th>\n      <td>dattu</td>\n      <td>naik</td>\n      <td>gdattunaik@gmail.com</td>\n    </tr>\n    <tr>\n      <th>2</th>\n      <td>vinay</td>\n      <td>babu</td>\n      <td>mvinaybabu@gmail.com</td>\n    </tr>\n  </tbody>\n</table>\n</div>"
     },
     "metadata": {},
     "execution_count": 119
    }
   ],
   "source": [
    "df.rename(columns={'FIRST_NAME':'first','LAST_NAME':'last','EMAIL':'email'},inplace=True)\n",
    "df.head()"
   ]
  },
  {
   "cell_type": "code",
   "execution_count": 120,
   "metadata": {},
   "outputs": [
    {
     "output_type": "execute_result",
     "data": {
      "text/plain": "first                   vinay\nlast                     babu\nemail    mvinaybabu@gmail.com\nName: 2, dtype: object"
     },
     "metadata": {},
     "execution_count": 120
    }
   ],
   "source": [
    "df.loc[2]"
   ]
  },
  {
   "cell_type": "code",
   "execution_count": 121,
   "metadata": {},
   "outputs": [
    {
     "output_type": "execute_result",
     "data": {
      "text/plain": "0    gashokbabu999@gamil.com\n2       mvinaybabu@gmail.com\nName: email, dtype: object"
     },
     "metadata": {},
     "execution_count": 121
    }
   ],
   "source": [
    "df.loc[(df['first'] == 'ashok') | (df['first'] == 'vinay'),'email']"
   ]
  },
  {
   "cell_type": "code",
   "execution_count": 122,
   "metadata": {
    "tags": []
   },
   "outputs": [
    {
     "output_type": "stream",
     "name": "stdout",
     "text": "0     True\n1    False\n2    False\nName: first, dtype: bool\n"
    }
   ],
   "source": [
    "print(df['first'] == 'ashok')"
   ]
  },
  {
   "cell_type": "code",
   "execution_count": 124,
   "metadata": {},
   "outputs": [
    {
     "output_type": "execute_result",
     "data": {
      "text/plain": "0    gashokbabu999@gamil.com\nName: email, dtype: object"
     },
     "metadata": {},
     "execution_count": 124
    }
   ],
   "source": [
    "filt = (df['first']=='ashok') & (df['last']=='babu')\n",
    "df.loc[filt,'email']"
   ]
  },
  {
   "cell_type": "code",
   "execution_count": 126,
   "metadata": {},
   "outputs": [],
   "source": [
    "filt = (df['first']=='ashok') & (df['last']=='babu')\n",
    "df_email = df.loc[filt]"
   ]
  },
  {
   "cell_type": "code",
   "execution_count": 127,
   "metadata": {},
   "outputs": [
    {
     "output_type": "execute_result",
     "data": {
      "text/plain": "   first                    email\n0  ashok  gashokbabu999@gamil.com",
      "text/html": "<div>\n<style scoped>\n    .dataframe tbody tr th:only-of-type {\n        vertical-align: middle;\n    }\n\n    .dataframe tbody tr th {\n        vertical-align: top;\n    }\n\n    .dataframe thead th {\n        text-align: right;\n    }\n</style>\n<table border=\"1\" class=\"dataframe\">\n  <thead>\n    <tr style=\"text-align: right;\">\n      <th></th>\n      <th>first</th>\n      <th>email</th>\n    </tr>\n  </thead>\n  <tbody>\n    <tr>\n      <th>0</th>\n      <td>ashok</td>\n      <td>gashokbabu999@gamil.com</td>\n    </tr>\n  </tbody>\n</table>\n</div>"
     },
     "metadata": {},
     "execution_count": 127
    }
   ],
   "source": [
    "df_email[['first','email']]"
   ]
  },
  {
   "cell_type": "code",
   "execution_count": 128,
   "metadata": {},
   "outputs": [
    {
     "output_type": "execute_result",
     "data": {
      "text/plain": "1    gdattunaik@gmail.com\n2    mvinaybabu@gmail.com\nName: email, dtype: object"
     },
     "metadata": {},
     "execution_count": 128
    }
   ],
   "source": [
    "df.loc[~filt,'email']   #which are not in the filter"
   ]
  },
  {
   "cell_type": "code",
   "execution_count": 129,
   "metadata": {},
   "outputs": [],
   "source": [
    "df.loc[0]=['gashok','babu','ashokbabuggmail.com']"
   ]
  },
  {
   "cell_type": "code",
   "execution_count": 130,
   "metadata": {},
   "outputs": [
    {
     "output_type": "execute_result",
     "data": {
      "text/plain": "    first  last                 email\n0  gashok  babu   ashokbabuggmail.com\n1   dattu  naik  gdattunaik@gmail.com\n2   vinay  babu  mvinaybabu@gmail.com",
      "text/html": "<div>\n<style scoped>\n    .dataframe tbody tr th:only-of-type {\n        vertical-align: middle;\n    }\n\n    .dataframe tbody tr th {\n        vertical-align: top;\n    }\n\n    .dataframe thead th {\n        text-align: right;\n    }\n</style>\n<table border=\"1\" class=\"dataframe\">\n  <thead>\n    <tr style=\"text-align: right;\">\n      <th></th>\n      <th>first</th>\n      <th>last</th>\n      <th>email</th>\n    </tr>\n  </thead>\n  <tbody>\n    <tr>\n      <th>0</th>\n      <td>gashok</td>\n      <td>babu</td>\n      <td>ashokbabuggmail.com</td>\n    </tr>\n    <tr>\n      <th>1</th>\n      <td>dattu</td>\n      <td>naik</td>\n      <td>gdattunaik@gmail.com</td>\n    </tr>\n    <tr>\n      <th>2</th>\n      <td>vinay</td>\n      <td>babu</td>\n      <td>mvinaybabu@gmail.com</td>\n    </tr>\n  </tbody>\n</table>\n</div>"
     },
     "metadata": {},
     "execution_count": 130
    }
   ],
   "source": [
    "df"
   ]
  },
  {
   "cell_type": "code",
   "execution_count": 131,
   "metadata": {},
   "outputs": [],
   "source": [
    "df.loc[0,['first','email']] = ['ashok','gashokbabu999@gmail.com']"
   ]
  },
  {
   "cell_type": "code",
   "execution_count": 132,
   "metadata": {},
   "outputs": [
    {
     "output_type": "execute_result",
     "data": {
      "text/plain": "   first  last                    email\n0  ashok  babu  gashokbabu999@gmail.com\n1  dattu  naik     gdattunaik@gmail.com\n2  vinay  babu     mvinaybabu@gmail.com",
      "text/html": "<div>\n<style scoped>\n    .dataframe tbody tr th:only-of-type {\n        vertical-align: middle;\n    }\n\n    .dataframe tbody tr th {\n        vertical-align: top;\n    }\n\n    .dataframe thead th {\n        text-align: right;\n    }\n</style>\n<table border=\"1\" class=\"dataframe\">\n  <thead>\n    <tr style=\"text-align: right;\">\n      <th></th>\n      <th>first</th>\n      <th>last</th>\n      <th>email</th>\n    </tr>\n  </thead>\n  <tbody>\n    <tr>\n      <th>0</th>\n      <td>ashok</td>\n      <td>babu</td>\n      <td>gashokbabu999@gmail.com</td>\n    </tr>\n    <tr>\n      <th>1</th>\n      <td>dattu</td>\n      <td>naik</td>\n      <td>gdattunaik@gmail.com</td>\n    </tr>\n    <tr>\n      <th>2</th>\n      <td>vinay</td>\n      <td>babu</td>\n      <td>mvinaybabu@gmail.com</td>\n    </tr>\n  </tbody>\n</table>\n</div>"
     },
     "metadata": {},
     "execution_count": 132
    }
   ],
   "source": [
    "df"
   ]
  },
  {
   "cell_type": "code",
   "execution_count": 133,
   "metadata": {},
   "outputs": [],
   "source": [
    "df.loc[2,'last'] = 'babum'"
   ]
  },
  {
   "cell_type": "code",
   "execution_count": 134,
   "metadata": {},
   "outputs": [],
   "source": [
    "# at is used to locate the specific location(single value).it almost similar to loc\n",
    "df.at[2,'last'] = 'babum'"
   ]
  },
  {
   "cell_type": "code",
   "execution_count": 135,
   "metadata": {},
   "outputs": [
    {
     "output_type": "execute_result",
     "data": {
      "text/plain": "   first   last                    email\n0  ashok   babu  gashokbabu999@gmail.com\n1  dattu   naik     gdattunaik@gmail.com\n2  vinay  babum     mvinaybabu@gmail.com",
      "text/html": "<div>\n<style scoped>\n    .dataframe tbody tr th:only-of-type {\n        vertical-align: middle;\n    }\n\n    .dataframe tbody tr th {\n        vertical-align: top;\n    }\n\n    .dataframe thead th {\n        text-align: right;\n    }\n</style>\n<table border=\"1\" class=\"dataframe\">\n  <thead>\n    <tr style=\"text-align: right;\">\n      <th></th>\n      <th>first</th>\n      <th>last</th>\n      <th>email</th>\n    </tr>\n  </thead>\n  <tbody>\n    <tr>\n      <th>0</th>\n      <td>ashok</td>\n      <td>babu</td>\n      <td>gashokbabu999@gmail.com</td>\n    </tr>\n    <tr>\n      <th>1</th>\n      <td>dattu</td>\n      <td>naik</td>\n      <td>gdattunaik@gmail.com</td>\n    </tr>\n    <tr>\n      <th>2</th>\n      <td>vinay</td>\n      <td>babum</td>\n      <td>mvinaybabu@gmail.com</td>\n    </tr>\n  </tbody>\n</table>\n</div>"
     },
     "metadata": {},
     "execution_count": 135
    }
   ],
   "source": [
    "df"
   ]
  },
  {
   "cell_type": "code",
   "execution_count": 141,
   "metadata": {},
   "outputs": [],
   "source": [
    "filt = (df['email']=='gashokbabu999@gmail.com')\n",
    "df[filt][['last','email']] = ['babug','babug@mail.com']  #this is not work because this value is setting on a temporary variable"
   ]
  },
  {
   "cell_type": "code",
   "execution_count": 142,
   "metadata": {},
   "outputs": [
    {
     "output_type": "execute_result",
     "data": {
      "text/plain": "   first   last                    email\n0  ashok   babu  gashokbabu999@gmail.com\n1  dattu   naik     gdattunaik@gmail.com\n2  vinay  babum     mvinaybabu@gmail.com",
      "text/html": "<div>\n<style scoped>\n    .dataframe tbody tr th:only-of-type {\n        vertical-align: middle;\n    }\n\n    .dataframe tbody tr th {\n        vertical-align: top;\n    }\n\n    .dataframe thead th {\n        text-align: right;\n    }\n</style>\n<table border=\"1\" class=\"dataframe\">\n  <thead>\n    <tr style=\"text-align: right;\">\n      <th></th>\n      <th>first</th>\n      <th>last</th>\n      <th>email</th>\n    </tr>\n  </thead>\n  <tbody>\n    <tr>\n      <th>0</th>\n      <td>ashok</td>\n      <td>babu</td>\n      <td>gashokbabu999@gmail.com</td>\n    </tr>\n    <tr>\n      <th>1</th>\n      <td>dattu</td>\n      <td>naik</td>\n      <td>gdattunaik@gmail.com</td>\n    </tr>\n    <tr>\n      <th>2</th>\n      <td>vinay</td>\n      <td>babum</td>\n      <td>mvinaybabu@gmail.com</td>\n    </tr>\n  </tbody>\n</table>\n</div>"
     },
     "metadata": {},
     "execution_count": 142
    }
   ],
   "source": [
    "df"
   ]
  },
  {
   "cell_type": "code",
   "execution_count": 144,
   "metadata": {},
   "outputs": [],
   "source": [
    "filt = (df['email']=='gashokbabu999@gmail.com')\n",
    "df.loc[filt,'last'] = 'babug'"
   ]
  },
  {
   "cell_type": "code",
   "execution_count": 145,
   "metadata": {},
   "outputs": [
    {
     "output_type": "execute_result",
     "data": {
      "text/plain": "   first   last                    email\n0  ashok  babug  gashokbabu999@gmail.com\n1  dattu   naik     gdattunaik@gmail.com\n2  vinay  babum     mvinaybabu@gmail.com",
      "text/html": "<div>\n<style scoped>\n    .dataframe tbody tr th:only-of-type {\n        vertical-align: middle;\n    }\n\n    .dataframe tbody tr th {\n        vertical-align: top;\n    }\n\n    .dataframe thead th {\n        text-align: right;\n    }\n</style>\n<table border=\"1\" class=\"dataframe\">\n  <thead>\n    <tr style=\"text-align: right;\">\n      <th></th>\n      <th>first</th>\n      <th>last</th>\n      <th>email</th>\n    </tr>\n  </thead>\n  <tbody>\n    <tr>\n      <th>0</th>\n      <td>ashok</td>\n      <td>babug</td>\n      <td>gashokbabu999@gmail.com</td>\n    </tr>\n    <tr>\n      <th>1</th>\n      <td>dattu</td>\n      <td>naik</td>\n      <td>gdattunaik@gmail.com</td>\n    </tr>\n    <tr>\n      <th>2</th>\n      <td>vinay</td>\n      <td>babum</td>\n      <td>mvinaybabu@gmail.com</td>\n    </tr>\n  </tbody>\n</table>\n</div>"
     },
     "metadata": {},
     "execution_count": 145
    }
   ],
   "source": [
    "df"
   ]
  },
  {
   "cell_type": "code",
   "execution_count": 147,
   "metadata": {},
   "outputs": [],
   "source": [
    "df['email'] = df['email'].str.upper()"
   ]
  },
  {
   "cell_type": "code",
   "execution_count": 148,
   "metadata": {},
   "outputs": [
    {
     "output_type": "execute_result",
     "data": {
      "text/plain": "   first   last                    email\n0  ashok  babug  GASHOKBABU999@GMAIL.COM\n1  dattu   naik     GDATTUNAIK@GMAIL.COM\n2  vinay  babum     MVINAYBABU@GMAIL.COM",
      "text/html": "<div>\n<style scoped>\n    .dataframe tbody tr th:only-of-type {\n        vertical-align: middle;\n    }\n\n    .dataframe tbody tr th {\n        vertical-align: top;\n    }\n\n    .dataframe thead th {\n        text-align: right;\n    }\n</style>\n<table border=\"1\" class=\"dataframe\">\n  <thead>\n    <tr style=\"text-align: right;\">\n      <th></th>\n      <th>first</th>\n      <th>last</th>\n      <th>email</th>\n    </tr>\n  </thead>\n  <tbody>\n    <tr>\n      <th>0</th>\n      <td>ashok</td>\n      <td>babug</td>\n      <td>GASHOKBABU999@GMAIL.COM</td>\n    </tr>\n    <tr>\n      <th>1</th>\n      <td>dattu</td>\n      <td>naik</td>\n      <td>GDATTUNAIK@GMAIL.COM</td>\n    </tr>\n    <tr>\n      <th>2</th>\n      <td>vinay</td>\n      <td>babum</td>\n      <td>MVINAYBABU@GMAIL.COM</td>\n    </tr>\n  </tbody>\n</table>\n</div>"
     },
     "metadata": {},
     "execution_count": 148
    }
   ],
   "source": [
    "df"
   ]
  },
  {
   "source": [
    "#Advanced popular methods to update values\n",
    "1.apply\n",
    "2.map\n",
    "3.applymap\n",
    "4.replace"
   ],
   "cell_type": "markdown",
   "metadata": {}
  },
  {
   "cell_type": "code",
   "execution_count": 149,
   "metadata": {},
   "outputs": [
    {
     "output_type": "execute_result",
     "data": {
      "text/plain": "0    23\n1    20\n2    20\nName: email, dtype: int64"
     },
     "metadata": {},
     "execution_count": 149
    }
   ],
   "source": [
    "#Apply running on Series\n",
    "df['email'].apply(len)"
   ]
  },
  {
   "cell_type": "code",
   "execution_count": 150,
   "metadata": {},
   "outputs": [],
   "source": [
    "def update_email(email):\n",
    "    return email.lower()"
   ]
  },
  {
   "cell_type": "code",
   "execution_count": 151,
   "metadata": {},
   "outputs": [
    {
     "output_type": "execute_result",
     "data": {
      "text/plain": "0    gashokbabu999@gmail.com\n1       gdattunaik@gmail.com\n2       mvinaybabu@gmail.com\nName: email, dtype: object"
     },
     "metadata": {},
     "execution_count": 151
    }
   ],
   "source": [
    "df['email'].apply(update_email)"
   ]
  },
  {
   "cell_type": "code",
   "execution_count": 152,
   "metadata": {},
   "outputs": [],
   "source": [
    "df['email'] = df['email'].apply(update_email)"
   ]
  },
  {
   "cell_type": "code",
   "execution_count": 154,
   "metadata": {},
   "outputs": [],
   "source": [
    "df['email'] = df['email'].apply(lambda x:x.lower())"
   ]
  },
  {
   "cell_type": "code",
   "execution_count": 156,
   "metadata": {},
   "outputs": [
    {
     "output_type": "execute_result",
     "data": {
      "text/plain": "0    3\n1    3\n2    3\ndtype: int64"
     },
     "metadata": {},
     "execution_count": 156
    }
   ],
   "source": [
    "#Applying apply function on complete DataFrame\n",
    "df.apply(len)\n",
    "#it is showing that 0th column has 3,1st column has 3 and 2nd column has 3"
   ]
  },
  {
   "cell_type": "code",
   "execution_count": 157,
   "metadata": {},
   "outputs": [
    {
     "output_type": "execute_result",
     "data": {
      "text/plain": "0    3\n1    3\n2    3\ndtype: int64"
     },
     "metadata": {},
     "execution_count": 157
    }
   ],
   "source": [
    "df.apply(len,axis='columns')  #rows is the default\n",
    "#it is showing that 0th row has 3,1st row has 3 and 2nd row has 3"
   ]
  },
  {
   "cell_type": "code",
   "execution_count": 159,
   "metadata": {},
   "outputs": [
    {
     "output_type": "display_data",
     "data": {
      "text/plain": "<IPython.core.display.Javascript object>",
      "application/javascript": "\n        if (window._pyforest_update_imports_cell) { window._pyforest_update_imports_cell('import numpy as np\\nimport pandas as pd'); }\n    "
     },
     "metadata": {}
    },
    {
     "output_type": "execute_result",
     "data": {
      "text/plain": "first                      ashok\nlast                       babug\nemail    gashokbabu999@gmail.com\ndtype: object"
     },
     "metadata": {},
     "execution_count": 159
    }
   ],
   "source": [
    " #it return based on alphabetical order.this method actually work better with numerical data and make more sense\n",
    "df.apply(pd.Series.min)  "
   ]
  },
  {
   "cell_type": "code",
   "execution_count": 161,
   "metadata": {},
   "outputs": [
    {
     "output_type": "execute_result",
     "data": {
      "text/plain": "first                      ashok\nlast                       babug\nemail    gashokbabu999@gmail.com\ndtype: object"
     },
     "metadata": {},
     "execution_count": 161
    }
   ],
   "source": [
    "df.apply(lambda x:x.min())  #here x is a series object"
   ]
  },
  {
   "source": [
    "applyng apply on series apply on every single value in the series\n",
    "applyng apply on dataframe apply on every column in the dataframe"
   ],
   "cell_type": "markdown",
   "metadata": {}
  },
  {
   "cell_type": "code",
   "execution_count": 162,
   "metadata": {},
   "outputs": [
    {
     "output_type": "execute_result",
     "data": {
      "text/plain": "   first  last  email\n0      5     5     23\n1      5     4     20\n2      5     5     20",
      "text/html": "<div>\n<style scoped>\n    .dataframe tbody tr th:only-of-type {\n        vertical-align: middle;\n    }\n\n    .dataframe tbody tr th {\n        vertical-align: top;\n    }\n\n    .dataframe thead th {\n        text-align: right;\n    }\n</style>\n<table border=\"1\" class=\"dataframe\">\n  <thead>\n    <tr style=\"text-align: right;\">\n      <th></th>\n      <th>first</th>\n      <th>last</th>\n      <th>email</th>\n    </tr>\n  </thead>\n  <tbody>\n    <tr>\n      <th>0</th>\n      <td>5</td>\n      <td>5</td>\n      <td>23</td>\n    </tr>\n    <tr>\n      <th>1</th>\n      <td>5</td>\n      <td>4</td>\n      <td>20</td>\n    </tr>\n    <tr>\n      <th>2</th>\n      <td>5</td>\n      <td>5</td>\n      <td>20</td>\n    </tr>\n  </tbody>\n</table>\n</div>"
     },
     "metadata": {},
     "execution_count": 162
    }
   ],
   "source": [
    "#applymap apply the function on each and every value\n",
    "df.applymap(len)"
   ]
  },
  {
   "source": [
    "df.applymap(lambda x:x.upper())"
   ],
   "cell_type": "code",
   "metadata": {},
   "execution_count": 164,
   "outputs": [
    {
     "output_type": "execute_result",
     "data": {
      "text/plain": "   first   last                    email\n0  ASHOK  BABUG  GASHOKBABU999@GMAIL.COM\n1  DATTU   NAIK     GDATTUNAIK@GMAIL.COM\n2  VINAY  BABUM     MVINAYBABU@GMAIL.COM",
      "text/html": "<div>\n<style scoped>\n    .dataframe tbody tr th:only-of-type {\n        vertical-align: middle;\n    }\n\n    .dataframe tbody tr th {\n        vertical-align: top;\n    }\n\n    .dataframe thead th {\n        text-align: right;\n    }\n</style>\n<table border=\"1\" class=\"dataframe\">\n  <thead>\n    <tr style=\"text-align: right;\">\n      <th></th>\n      <th>first</th>\n      <th>last</th>\n      <th>email</th>\n    </tr>\n  </thead>\n  <tbody>\n    <tr>\n      <th>0</th>\n      <td>ASHOK</td>\n      <td>BABUG</td>\n      <td>GASHOKBABU999@GMAIL.COM</td>\n    </tr>\n    <tr>\n      <th>1</th>\n      <td>DATTU</td>\n      <td>NAIK</td>\n      <td>GDATTUNAIK@GMAIL.COM</td>\n    </tr>\n    <tr>\n      <th>2</th>\n      <td>VINAY</td>\n      <td>BABUM</td>\n      <td>MVINAYBABU@GMAIL.COM</td>\n    </tr>\n  </tbody>\n</table>\n</div>"
     },
     "metadata": {},
     "execution_count": 164
    }
   ]
  },
  {
   "cell_type": "code",
   "execution_count": 165,
   "metadata": {},
   "outputs": [
    {
     "output_type": "execute_result",
     "data": {
      "text/plain": "   first   last                    email\n0  ashok  babug  gashokbabu999@gmail.com\n1  dattu   naik     gdattunaik@gmail.com\n2  vinay  babum     mvinaybabu@gmail.com",
      "text/html": "<div>\n<style scoped>\n    .dataframe tbody tr th:only-of-type {\n        vertical-align: middle;\n    }\n\n    .dataframe tbody tr th {\n        vertical-align: top;\n    }\n\n    .dataframe thead th {\n        text-align: right;\n    }\n</style>\n<table border=\"1\" class=\"dataframe\">\n  <thead>\n    <tr style=\"text-align: right;\">\n      <th></th>\n      <th>first</th>\n      <th>last</th>\n      <th>email</th>\n    </tr>\n  </thead>\n  <tbody>\n    <tr>\n      <th>0</th>\n      <td>ashok</td>\n      <td>babug</td>\n      <td>gashokbabu999@gmail.com</td>\n    </tr>\n    <tr>\n      <th>1</th>\n      <td>dattu</td>\n      <td>naik</td>\n      <td>gdattunaik@gmail.com</td>\n    </tr>\n    <tr>\n      <th>2</th>\n      <td>vinay</td>\n      <td>babum</td>\n      <td>mvinaybabu@gmail.com</td>\n    </tr>\n  </tbody>\n</table>\n</div>"
     },
     "metadata": {},
     "execution_count": 165
    }
   ],
   "source": [
    "df.applymap(lambda x:x.lower())"
   ]
  },
  {
   "cell_type": "code",
   "execution_count": 167,
   "metadata": {},
   "outputs": [
    {
     "output_type": "execute_result",
     "data": {
      "text/plain": "0    gashok\n1       NaN\n2    mvinay\nName: first, dtype: object"
     },
     "metadata": {},
     "execution_count": 167
    }
   ],
   "source": [
    "#map method is only work on series\n",
    "#map actually write the values which are nor passed int dictionart to nan\n",
    "df['first'].map({'ashok':'gashok','vinay':'mvinay'})"
   ]
  },
  {
   "cell_type": "code",
   "execution_count": 168,
   "metadata": {},
   "outputs": [
    {
     "output_type": "execute_result",
     "data": {
      "text/plain": "0    gashok\n1     dattu\n2    mvinay\nName: first, dtype: object"
     },
     "metadata": {},
     "execution_count": 168
    }
   ],
   "source": [
    "#to overcome the disadvantages of map we use replace\n",
    "df['first'].replace({'ashok':'gashok','vinay':'mvinay'})\n",
    "# df['first'] = df['first'].replace({'ashok':'gashok','vinay':'mvinay'}) #to change the dataframe"
   ]
  },
  {
   "cell_type": "code",
   "execution_count": null,
   "metadata": {},
   "outputs": [],
   "source": []
  }
 ]
}